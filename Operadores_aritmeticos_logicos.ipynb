{
  "nbformat": 4,
  "nbformat_minor": 0,
  "metadata": {
    "colab": {
      "private_outputs": true,
      "provenance": []
    },
    "kernelspec": {
      "name": "python3",
      "display_name": "Python 3"
    },
    "language_info": {
      "name": "python"
    }
  },
  "cells": [
    {
      "cell_type": "markdown",
      "source": [
        "![](https://www.usergioarboleda.edu.co/wp-content/uploads/ultimatum/imagens/logo-mobile-UniversidadSergioArboleda.png)"
      ],
      "metadata": {
        "id": "zxqvmjAZ6iFR"
      }
    },
    {
      "cell_type": "markdown",
      "source": [
        "# Operadores Aritmeticos y Logicos\n",
        "\n",
        "En Python, existen varios operadores aritméticos y lógicos que se utilizan para realizar operaciones matemáticas y de comparación. Aquí se muestra una explicación de algunos de los operadores más comunes.\n",
        "\n",
        "### Operadores Aritméticos\n",
        "\n",
        "Los operadores aritméticos se utilizan para realizar operaciones matemáticas. Aquí te muestro los principales operadores aritméticos en Python:\n",
        "\n",
        "Suma: +\n",
        "\n",
        "Resta: -\n",
        "\n",
        "Multiplicación: *\n",
        "\n",
        "División: /\n",
        "\n",
        "División entera: //\n",
        "\n",
        "Resto: %\n",
        "\n",
        "Potencia: **\n",
        "\n",
        "\n"
      ],
      "metadata": {
        "id": "tMlCtbD26jtY"
      }
    },
    {
      "cell_type": "code",
      "execution_count": null,
      "metadata": {
        "id": "664Zw46h6gz6"
      },
      "outputs": [],
      "source": [
        "# Suma\n",
        "x = 3\n",
        "y = 5\n",
        "z = x + y\n",
        "print(z) # 8\n",
        "\n",
        "# Resta\n",
        "x = 5\n",
        "y = 3\n",
        "z = x - y\n",
        "print(z) # 2\n",
        "\n",
        "# Multiplicación\n",
        "x = 3\n",
        "y = 5\n",
        "z = x * y\n",
        "print(z) # 15\n",
        "\n",
        "# División\n",
        "x = 10\n",
        "y = 3\n",
        "z = x / y\n",
        "print(z) # 3.3333333333333335\n",
        "\n",
        "# División entera\n",
        "x = 10\n",
        "y = 3\n",
        "z = x // y\n",
        "print(z) # 3\n",
        "\n",
        "# Resto\n",
        "x = 10\n",
        "y = 3\n",
        "z = x % y\n",
        "print(z) # 1\n",
        "\n",
        "# Potencia\n",
        "x = 2\n",
        "y = 3\n",
        "z = x ** y\n",
        "print(z) # 8"
      ]
    },
    {
      "cell_type": "markdown",
      "source": [
        "## Los operadores de comparación matemática\n",
        "\n",
        "Los operadores de comparación se utilizan para comparar valores y devolver un valor booleano (True o False) según el resultado de la comparación. Acá se muestra los principales operadores logicos:\n",
        "\n",
        "Igual: ==\n",
        "\n",
        "Distinto: !=\n",
        "\n",
        "Mayor que: >\n",
        "\n",
        "Menor que: <\n",
        "\n",
        "Mayor o igual que: >=\n",
        "\n",
        "Menor o igual que: <=\n",
        "\n",
        "\n"
      ],
      "metadata": {
        "id": "qqurtrG166cy"
      }
    },
    {
      "cell_type": "code",
      "source": [
        "# Igual\n",
        "x = 5\n",
        "y = 5\n",
        "print(x == y) # True\n",
        "\n",
        "# Distinto\n",
        "x = 5\n",
        "y = 3\n",
        "print(x != y) # True\n",
        "\n",
        "# Mayor que\n",
        "x = 5\n",
        "y = 3\n",
        "print(x > y) # True\n",
        "\n",
        "# Menor que\n",
        "x = 3\n",
        "y = 5\n",
        "print(x < y) # True\n",
        "\n",
        "# Mayor o igual que\n",
        "x = 5\n",
        "y = 5\n",
        "print(x >= y) # True\n",
        "\n",
        "# Menor o igual que\n",
        "x = 5\n",
        "y = 5\n",
        "print(x <= y) # True"
      ],
      "metadata": {
        "id": "pFpCdmoQ7PJg"
      },
      "execution_count": null,
      "outputs": []
    },
    {
      "cell_type": "markdown",
      "source": [
        "## Operadores lógicos\n",
        "\n",
        "Los operadores lógicos se utilizan para combinar expresiones lógicas y devolver un valor booleano (True o False) según el resultado de la combinación. Aquí se muestran los principales operadores lógicos en Python.\n",
        "\n",
        "And: and\n",
        "\n",
        "Or: or\n",
        "\n",
        "Not: not"
      ],
      "metadata": {
        "id": "pMemVOJ37X2a"
      }
    },
    {
      "cell_type": "markdown",
      "source": [
        "### Operador AND\n",
        "\n",
        "El operador and se utiliza para evaluar dos condiciones y devolver True si ambas condiciones son verdaderas. En caso contrario, devuelve False. El siguiente es un ejemplo de cómo usar el operador and:"
      ],
      "metadata": {
        "id": "oORhR4o_7s8i"
      }
    },
    {
      "cell_type": "code",
      "source": [
        "# And\n",
        "x = 5\n",
        "y = 3\n",
        "z = 7\n",
        "print(x > y and x < z) # True\n",
        "print(x > z and x < y) # False"
      ],
      "metadata": {
        "id": "5UE_8xrN7wmh"
      },
      "execution_count": null,
      "outputs": []
    },
    {
      "cell_type": "markdown",
      "source": [
        "En este ejemplo, la primera línea devuelve True porque x es mayor que y y menor que z. En la segunda línea, x no es mayor que z, por lo que la expresión completa se evalúa como False."
      ],
      "metadata": {
        "id": "lxnS-HHb70rC"
      }
    },
    {
      "cell_type": "markdown",
      "source": [
        "### Operador OR\n",
        "\n",
        "El operador or se utiliza para evaluar dos condiciones y devolver $True$ si al menos una de las condiciones es verdadera. En caso contrario, devuelve $False$. El siguiente es un ejemplo de cómo usar el operador $or$:"
      ],
      "metadata": {
        "id": "HiFI0OFe7yjB"
      }
    },
    {
      "cell_type": "code",
      "source": [
        "# Or\n",
        "x = 5\n",
        "y = 3\n",
        "z = 7\n",
        "print(x > y or x > z) # True\n",
        "print(x < y or x < z) # False"
      ],
      "metadata": {
        "id": "DXnPnTkZ8HMo"
      },
      "execution_count": null,
      "outputs": []
    },
    {
      "cell_type": "markdown",
      "source": [
        "En este ejemplo, la primera línea devuelve True porque x es mayor que y o mayor que z. En la segunda línea, x no es menor que y ni menor que z, por lo que la expresión completa se evalúa como False."
      ],
      "metadata": {
        "id": "eWe_vRUO8LNI"
      }
    },
    {
      "cell_type": "markdown",
      "source": [
        "### Operador NOT\n",
        "\n",
        "El operador not se utiliza para negar una condición. Si la condición es verdadera, not devuelve $False$. Si la condición es falsa, not devuelve $True$. El siguiente es un ejemplo de cómo usar el operador not:"
      ],
      "metadata": {
        "id": "4nRsLPRB8LIJ"
      }
    },
    {
      "cell_type": "code",
      "source": [
        "# Not\n",
        "x = 5\n",
        "y = 3\n",
        "print(not x > y) # False\n",
        "print(not x < y) # True"
      ],
      "metadata": {
        "id": "6SxS9v5H8S3A"
      },
      "execution_count": null,
      "outputs": []
    },
    {
      "cell_type": "markdown",
      "source": [
        "En este ejemplo, la primera línea devuelve False porque x es mayor que y. La segunda línea devuelve True porque x no es menor que y. Al agregar not a la expresión, se niega el resultado de la comparación original."
      ],
      "metadata": {
        "id": "XOxfbQxx8VEG"
      }
    }
  ]
}