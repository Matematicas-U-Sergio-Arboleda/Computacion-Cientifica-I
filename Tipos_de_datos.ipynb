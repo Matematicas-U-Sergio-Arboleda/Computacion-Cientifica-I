{
  "nbformat": 4,
  "nbformat_minor": 0,
  "metadata": {
    "colab": {
      "private_outputs": true,
      "provenance": []
    },
    "kernelspec": {
      "name": "python3",
      "display_name": "Python 3"
    },
    "language_info": {
      "name": "python"
    }
  },
  "cells": [
    {
      "cell_type": "markdown",
      "source": [
        "![](https://www.usergioarboleda.edu.co/wp-content/uploads/ultimatum/imagens/logo-mobile-UniversidadSergioArboleda.png)"
      ],
      "metadata": {
        "id": "hAHHZHQ25gJ0"
      }
    },
    {
      "cell_type": "markdown",
      "source": [
        "# Tipos de Datos\n",
        "En Python, existen varios tipos de datos integrados que se utilizan para almacenar diferentes tipos de valores. Acá se muestra una explicación de algunos de los tipos de datos más comunes."
      ],
      "metadata": {
        "id": "jOBN8BPC3pV-"
      }
    },
    {
      "cell_type": "markdown",
      "source": [
        "## Números enteros\n",
        "En Python, los enteros se definen simplemente escribiendo un número sin decimales"
      ],
      "metadata": {
        "id": "IpIpRcn83xjZ"
      }
    },
    {
      "cell_type": "code",
      "execution_count": null,
      "metadata": {
        "id": "bFqsk_Kg3fX4"
      },
      "outputs": [],
      "source": [
        "# Crear un entero\n",
        "x = 5\n",
        "\n",
        "# Realizar operaciones matemáticas con enteros\n",
        "y = 3\n",
        "print(x + y) # 8\n",
        "print(x - y) # 2\n",
        "print(x * y) # 15\n",
        "print(x / y) # 1.6666666666666667"
      ]
    },
    {
      "cell_type": "markdown",
      "source": [
        "## Números Reales o Flotantes\n",
        "Los flotantes son números con decimales. En Python, los flotantes se definen utilizando un punto decimal."
      ],
      "metadata": {
        "id": "GtJb3J2z37yH"
      }
    },
    {
      "cell_type": "code",
      "source": [
        "# Crear un flotante\n",
        "x = 3.14\n",
        "\n",
        "# Realizar operaciones matemáticas con flotantes\n",
        "y = 2.5\n",
        "print(x + y) # 5.64\n",
        "print(x - y) # 0.64\n",
        "print(x * y) # 7.85\n",
        "print(x / y) # 1.256"
      ],
      "metadata": {
        "id": "CnuoVod34CF8"
      },
      "execution_count": null,
      "outputs": []
    },
    {
      "cell_type": "markdown",
      "source": [
        "## Números Complejos\n",
        "\n",
        "En Python, los números complejos se definen utilizando la letra \"j\" para indicar la parte imaginaria. La sintaxis para definir un número complejo es la siguiente:\n",
        "\n",
        "$z = a + bj$\n",
        "\n",
        "Donde $a$ , $b$ $ \\in \\mathbb{R}$ "
      ],
      "metadata": {
        "id": "5ZZRXl0B5AxC"
      }
    },
    {
      "cell_type": "code",
      "source": [
        "# Crear un número complejo\n",
        "z = 2 + 3j\n",
        "\n",
        "# Realizar operaciones matemáticas con números complejos\n",
        "w = 1 - 2j\n",
        "print(z + w) # (3+1j)\n",
        "print(z - w) # (1+5j)\n",
        "print(z * w) # (8-1j)\n",
        "print(z / w) # (-0.4+1.6j)"
      ],
      "metadata": {
        "id": "lTCSYTQJ5FZB"
      },
      "execution_count": null,
      "outputs": []
    },
    {
      "cell_type": "markdown",
      "source": [
        "## Cadenas de caracteres o String\n",
        "Las cadenas de caracteres son secuencias de caracteres, como texto. En Python, las cadenas de caracteres se definen utilizando comillas simples, dobles, o tres comillas simples. "
      ],
      "metadata": {
        "id": "L1QkAI234EBZ"
      }
    },
    {
      "cell_type": "code",
      "source": [
        "# Crear una cadena de caracteres\n",
        "nombre = \"Juan\"\n",
        "nombre2 = 'Juan'\n",
        "nombre3 = '''\n",
        "          Juan Alberto Pérez\n",
        "          '''\n",
        "\n",
        "# Concatenar cadenas de caracteres\n",
        "apellido = \"Pérez\"\n",
        "nombre_completo = nombre + \" \" + apellido\n",
        "print(nombre_completo) # \"Juan Pérez\"\n",
        "\n",
        "# Acceder a un carácter de la cadena de caracteres\n",
        "primer_caracter = nombre[0]\n",
        "print(primer_caracter) # \"J\""
      ],
      "metadata": {
        "id": "s7L3VSrv4XME"
      },
      "execution_count": null,
      "outputs": []
    },
    {
      "cell_type": "markdown",
      "source": [
        "## Booleanos\n",
        "Las variables booleanas son valores que pueden ser True o False. En Python, los booleanos se utilizan principalmente para expresar condiciones."
      ],
      "metadata": {
        "id": "dj7mOpJF4rki"
      }
    },
    {
      "cell_type": "code",
      "source": [
        "# Crear un booleano\n",
        "es_mayor_de_edad = True\n",
        "\n",
        "# Comprobar una condición\n",
        "if es_mayor_de_edad:\n",
        "  print(\"Puede conducir un coche\")\n",
        "else:\n",
        "  print(\"No puede conducir un coche\")"
      ],
      "metadata": {
        "id": "bvfjHL6K4qra"
      },
      "execution_count": null,
      "outputs": []
    },
    {
      "cell_type": "markdown",
      "source": [
        "## None\n",
        "None es un valor especial que representa la ausencia de un valor. En Python, se utiliza para indicar que una variable no tiene valor. "
      ],
      "metadata": {
        "id": "avelNZLP43yk"
      }
    },
    {
      "cell_type": "code",
      "source": [
        "# Crear una variable sin valor\n",
        "edad = None\n",
        "\n",
        "# Comprobar si la variable tiene valor\n",
        "if edad is None:\n",
        "  print(\"La edad no ha sido definida\")\n",
        "else:\n",
        "  print(\"La edad es:\", edad)"
      ],
      "metadata": {
        "id": "7v3PJCx243VS"
      },
      "execution_count": null,
      "outputs": []
    },
    {
      "cell_type": "markdown",
      "source": [
        "## Resumen\n",
        "Puedes utilizar la función type() para determinar el tipo de datos de una variable. Aquí te muestro algunos ejemplos:"
      ],
      "metadata": {
        "id": "BdAllSsO4OcJ"
      }
    },
    {
      "cell_type": "code",
      "source": [
        "# Tipo de dato entero\n",
        "x = 5\n",
        "print(type(x)) # <class 'int'>\n",
        "\n",
        "# Tipo de dato flotante\n",
        "y = 2.5\n",
        "print(type(y)) # <class 'float'>\n",
        "\n",
        "# Tipo de dato booleano\n",
        "z = True\n",
        "print(type(z)) # <class 'bool'>\n",
        "\n",
        "# Tipo de dato cadena de texto\n",
        "texto = \"Hola mundo\"\n",
        "print(type(texto)) # <class 'str'>\n",
        "\n",
        "# Tipo de dato lista\n",
        "lista = [1, 2, 3, 4]\n",
        "print(type(lista)) # <class 'list'>\n",
        "\n",
        "# Tipo de dato tupla\n",
        "tupla = (1, 2, 3, 4)\n",
        "print(type(tupla)) # <class 'tuple'>\n",
        "\n",
        "# Tipo de dato diccionario\n",
        "diccionario = {\"nombre\": \"Juan\", \"edad\": 30}\n",
        "print(type(diccionario)) # <class 'dict'>"
      ],
      "metadata": {
        "id": "hsu7JHHN4QtF"
      },
      "execution_count": null,
      "outputs": []
    }
  ]
}