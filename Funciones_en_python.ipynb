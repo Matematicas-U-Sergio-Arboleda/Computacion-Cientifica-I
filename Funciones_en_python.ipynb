{
  "nbformat": 4,
  "nbformat_minor": 0,
  "metadata": {
    "colab": {
      "private_outputs": true,
      "provenance": []
    },
    "kernelspec": {
      "name": "python3",
      "display_name": "Python 3"
    },
    "language_info": {
      "name": "python"
    }
  },
  "cells": [
    {
      "cell_type": "markdown",
      "source": [
        "![](https://www.usergioarboleda.edu.co/wp-content/uploads/ultimatum/imagens/logo-mobile-UniversidadSergioArboleda.png)"
      ],
      "metadata": {
        "id": "SwXfHu0s9BkO"
      }
    },
    {
      "cell_type": "markdown",
      "source": [
        "# Funciones en Python\n",
        "\n",
        "Una función en Python es un bloque de código reutilizable que realiza una tarea específica. En matemáticas, las funciones son reglas que asignan un valor de salida a cada valor de entrada en un conjunto de datos. En Python, una función se define utilizando la palabra clave def, seguida del nombre de la función y los parámetros que recibe, si es que los tiene.\n",
        "\n",
        "Aquí hay un ejemplo básico de cómo definir una función en Python para calcular el valor de una función matemática simple, como la función lineal $f(x) = 2x + 3$:"
      ],
      "metadata": {
        "id": "v72P5MfG9Eul"
      }
    },
    {
      "cell_type": "code",
      "execution_count": null,
      "metadata": {
        "id": "wdwQmw899AnN"
      },
      "outputs": [],
      "source": [
        "def f(x):\n",
        "    return 2*x + 3"
      ]
    },
    {
      "cell_type": "markdown",
      "source": [
        "En este ejemplo, se define una función llamada $f$ que toma un parámetro llamado $x$ y devuelve el valor de la función lineal $2x + 3$ evaluada en $x$.\n",
        "\n",
        "Para llamar a esta función, simplemente usamos el nombre de la función y le pasamos el valor deseado para el parámetro $x$. Por ejemplo:"
      ],
      "metadata": {
        "id": "9c22gX709ZtX"
      }
    },
    {
      "cell_type": "code",
      "source": [
        "resultado = f(4) # Evaluamos la función en x=4\n",
        "print(resultado) # Imprime 11"
      ],
      "metadata": {
        "id": "pRUzk9DZ-Jlg"
      },
      "execution_count": null,
      "outputs": []
    },
    {
      "cell_type": "markdown",
      "source": [
        "En este ejemplo, la función f se llama con el valor 4 para el parámetro x, lo que devuelve el valor 11. Luego, este valor se asigna a la variable resultado y se imprime en la consola."
      ],
      "metadata": {
        "id": "sGPm5aCV-PMe"
      }
    },
    {
      "cell_type": "markdown",
      "source": [
        "## Funciones con múltiples parámetros"
      ],
      "metadata": {
        "id": "15ioYzO_-RyV"
      }
    },
    {
      "cell_type": "markdown",
      "source": [
        "Las funciones en Python pueden tomar múltiples parámetros para realizar cálculos más complejos. Por ejemplo, podemos definir una función que calcule la distancia entre dos puntos en un plano cartesiano utilizando la fórmula matemática $d = \\sqrt{(x2-x1)^2 + (y2-y1)^2}$:"
      ],
      "metadata": {
        "id": "LxyvIuYb-WlG"
      }
    },
    {
      "cell_type": "code",
      "source": [
        "import math\n",
        "\n",
        "def distancia(x1, y1, x2, y2):\n",
        "    d = math.sqrt((x2 - x1)**2 + (y2 - y1)**2)\n",
        "    return d"
      ],
      "metadata": {
        "id": "-iQgbIeU-Pu7"
      },
      "execution_count": null,
      "outputs": []
    },
    {
      "cell_type": "markdown",
      "source": [
        "En este ejemplo, la función $distancia$ toma cuatro parámetros, $x1, y1, x2$ y $y2$, que representan las coordenadas de dos puntos en el plano cartesiano. La función utiliza la librería math de Python para calcular la raíz cuadrada y la potencia de los números."
      ],
      "metadata": {
        "id": "z02SSdlb-hNw"
      }
    },
    {
      "cell_type": "markdown",
      "source": [
        "Para llamar a esta función, simplemente pasamos los cuatro argumentos a la función:"
      ],
      "metadata": {
        "id": "tSjXv_ol-qs_"
      }
    },
    {
      "cell_type": "code",
      "source": [
        "d = distancia(0, 0, 3, 4)\n",
        "print(d) # Imprime 5.0"
      ],
      "metadata": {
        "id": "ldESanFT-r7p"
      },
      "execution_count": null,
      "outputs": []
    },
    {
      "cell_type": "markdown",
      "source": [
        "En este ejemplo, la función distancia se llama con los argumentos 0, 0, 3 y 4, lo que devuelve el valor 5.0. Luego, este valor se asigna a la variable $d$ y se imprime en la consola."
      ],
      "metadata": {
        "id": "EVDYcrTb-upo"
      }
    },
    {
      "cell_type": "markdown",
      "source": [
        "## Funciones recursivas\n",
        "\n",
        "Las funciones en Python también pueden ser recursivas, lo que significa que una función puede llamarse a sí misma para realizar cálculos repetidos. Un ejemplo común de una función recursiva es el cálculo del factorial de un número:\n"
      ],
      "metadata": {
        "id": "CNnxTli6-yFu"
      }
    },
    {
      "cell_type": "code",
      "source": [
        "def factorial(n):\n",
        "    if n == 0:\n",
        "        return 1\n",
        "    else:\n",
        "        return n * factorial(n-1)"
      ],
      "metadata": {
        "id": "gIf4_Tml-3e-"
      },
      "execution_count": null,
      "outputs": []
    },
    {
      "cell_type": "markdown",
      "source": [
        "En este ejemplo la función factorial toma un parámetro $n$ y utiliza una declaración if-else para determinar si $n$ es igual a 0. Si es así, la función devuelve 1. De lo contrario, la función se llama a sí misma con un parámetro $n-1$ y se multiplica el resultado por $n$."
      ],
      "metadata": {
        "id": "_by2PYA5-6VW"
      }
    },
    {
      "cell_type": "code",
      "source": [
        "resultado = factorial(5)\n",
        "print(resultado) # Imprime 120"
      ],
      "metadata": {
        "id": "a91zYDwu_CN8"
      },
      "execution_count": null,
      "outputs": []
    },
    {
      "cell_type": "markdown",
      "source": [
        "En este ejemplo, la función factorial se llama con el argumento 5, lo que devuelve el valor 120. Luego, este valor se asigna a la variable resultado y se imprime en la consola."
      ],
      "metadata": {
        "id": "CayV3epY_Hee"
      }
    },
    {
      "cell_type": "markdown",
      "source": [
        "## Funciones Lambda\n",
        "\n",
        "Las funciones lambda en Python son funciones anónimas de una sola línea que se utilizan para realizar cálculos simples. Las funciones lambda se definen utilizando la palabra clave lambda, seguida de los argumentos de la función separados por dos puntos y una expresión que se evalúa y devuelve como resultado."
      ],
      "metadata": {
        "id": "wE46Lg8z_Ike"
      }
    },
    {
      "cell_type": "code",
      "source": [
        "cuadrado = lambda x: x**2"
      ],
      "metadata": {
        "id": "3DMOUTLr_GUG"
      },
      "execution_count": null,
      "outputs": []
    },
    {
      "cell_type": "markdown",
      "source": [
        "En este ejemplo, se define una función lambda llamada cuadrado que toma un argumento x y devuelve el cuadrado de x."
      ],
      "metadata": {
        "id": "5vs91fet_Wj9"
      }
    },
    {
      "cell_type": "markdown",
      "source": [
        "Para llamar a esta función, simplemente usamos el nombre de la función lambda y le pasamos el valor deseado para el argumento x. Por ejemplo:"
      ],
      "metadata": {
        "id": "kxCrg0yB_Xic"
      }
    },
    {
      "cell_type": "code",
      "source": [
        "resultado = cuadrado(4)\n",
        "print(resultado) # Imprime 16"
      ],
      "metadata": {
        "id": "NCoeSVZn_XKl"
      },
      "execution_count": null,
      "outputs": []
    },
    {
      "cell_type": "markdown",
      "source": [
        "En este ejemplo, la función lambda cuadrado se llama con el valor 4 para el argumento x, lo que devuelve el valor 16. Luego, este valor se asigna a la variable resultado y se imprime en la consola."
      ],
      "metadata": {
        "id": "L6rSjZV2_d3e"
      }
    }
  ]
}