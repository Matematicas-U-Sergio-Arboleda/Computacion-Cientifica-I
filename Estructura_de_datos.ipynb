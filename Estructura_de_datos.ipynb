{
  "nbformat": 4,
  "nbformat_minor": 0,
  "metadata": {
    "colab": {
      "private_outputs": true,
      "provenance": []
    },
    "kernelspec": {
      "name": "python3",
      "display_name": "Python 3"
    },
    "language_info": {
      "name": "python"
    }
  },
  "cells": [
    {
      "cell_type": "markdown",
      "source": [
        "![](https://www.usergioarboleda.edu.co/wp-content/uploads/ultimatum/imagens/logo-mobile-UniversidadSergioArboleda.png)\n"
      ],
      "metadata": {
        "id": "_VuJxr1x1eYc"
      }
    },
    {
      "cell_type": "markdown",
      "source": [
        "# Estructura de Datos\n",
        "\n",
        "En Python, existen varias estructuras de datos integradas que se utilizan para almacenar y organizar datos. Acá se muestra una explicación de algunas de las estructuras de datos más comunes."
      ],
      "metadata": {
        "id": "D3z-oT0vl2xq"
      }
    },
    {
      "cell_type": "markdown",
      "source": [
        "## Listas\n",
        "\n",
        "Las listas son una estructura de datos que permite almacenar una colección ordenada de elementos. En Python, las listas se crean utilizando corchetes '[]'. Acá se muestra un ejemplo\n"
      ],
      "metadata": {
        "id": "1SL-4uPYl-G0"
      }
    },
    {
      "cell_type": "code",
      "execution_count": null,
      "metadata": {
        "id": "AwFSZ81nlsI6"
      },
      "outputs": [],
      "source": [
        "# Crear una lista vacía\n",
        "lista_vacia = []\n",
        "\n",
        "# Crear una lista con elementos\n",
        "frutas = [\"manzana\", \"banana\", \"cereza\"]\n",
        "\n",
        "# Acceder a un elemento de la lista\n",
        "print(frutas[0]) # \"manzana\"\n",
        "\n",
        "# Añadir un elemento a la lista\n",
        "frutas.append(\"naranja\")\n",
        "\n",
        "# Eliminar un elemento de la lista\n",
        "frutas.remove(\"banana\")"
      ]
    },
    {
      "cell_type": "markdown",
      "source": [
        "## Tuplas\n",
        "\n",
        "Las tuplas son similares a las listas, pero son inmutables, lo que significa que no se pueden modificar después de su creación. En Python, las tuplas se crean utilizando paréntesis '()'. "
      ],
      "metadata": {
        "id": "BzDr3_sn0zRd"
      }
    },
    {
      "cell_type": "code",
      "source": [
        "# Crear una tupla\n",
        "punto = (1, 2)\n",
        "\n",
        "# Acceder a un elemento de la tupla\n",
        "print(punto[0]) # 1"
      ],
      "metadata": {
        "id": "nVwXtO4w05X3"
      },
      "execution_count": null,
      "outputs": []
    },
    {
      "cell_type": "markdown",
      "source": [
        "## Diccionarios\n",
        "Los diccionarios son una estructura de datos que permite almacenar una colección de pares clave-valor. En Python, los diccionarios se crean utilizando llaves {}. Tiene la estructura { llave1 : elemento1, llave2 : elemento2}"
      ],
      "metadata": {
        "id": "IykkeWKo09SO"
      }
    },
    {
      "cell_type": "code",
      "source": [
        "# Crear un diccionario vacío\n",
        "diccionario_vacio = {}\n",
        "\n",
        "# Crear un diccionario con elementos\n",
        "persona = {\"nombre\": \"Edward\", \"edad\": 26, \"ciudad\": \"Bogotá\"}\n",
        "\n",
        "# Acceder a un valor del diccionario\n",
        "print(persona[\"nombre\"]) # \"Edward\"\n",
        "\n",
        "# Añadir un nuevo par clave-valor al diccionario\n",
        "persona[\"email\"] = \"Edward@gmail.com\"\n",
        "\n",
        "persona"
      ],
      "metadata": {
        "id": "-K05BEvh1ILP"
      },
      "execution_count": null,
      "outputs": []
    },
    {
      "cell_type": "markdown",
      "source": [
        "## Conjuntos\n",
        "\n",
        "Los conjuntos son una estructura de datos que permite almacenar una colección de elementos únicos y desordenados. En Python, los conjuntos se crean utilizando llaves {} o la función set(). Acá se muestra un ejemplo"
      ],
      "metadata": {
        "id": "C40qYpid1VgC"
      }
    },
    {
      "cell_type": "code",
      "source": [
        "# Crear un conjunto vacío\n",
        "conjunto_vacio = set()\n",
        "\n",
        "# Crear un conjunto con elementos\n",
        "numeros = {1, 2, 3, 4, 5}\n",
        "\n",
        "# Añadir un elemento al conjunto\n",
        "numeros.add(6)\n",
        "\n",
        "# Eliminar un elemento del conjunto\n",
        "numeros.remove(3)"
      ],
      "metadata": {
        "id": "Xcwz3ICW1b7D"
      },
      "execution_count": null,
      "outputs": []
    }
  ]
}