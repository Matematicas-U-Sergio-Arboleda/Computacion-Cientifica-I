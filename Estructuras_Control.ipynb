{
  "nbformat": 4,
  "nbformat_minor": 0,
  "metadata": {
    "colab": {
      "private_outputs": true,
      "provenance": []
    },
    "kernelspec": {
      "name": "python3",
      "display_name": "Python 3"
    },
    "language_info": {
      "name": "python"
    }
  },
  "cells": [
    {
      "cell_type": "markdown",
      "source": [
        "![](https://www.usergioarboleda.edu.co/wp-content/uploads/ultimatum/imagens/logo-mobile-UniversidadSergioArboleda.png)\n"
      ],
      "metadata": {
        "id": "EQ-oBa0IAcyf"
      }
    },
    {
      "cell_type": "markdown",
      "source": [
        "# Estructuras de Control\n",
        "\n",
        "Las estructuras de control en Python son herramientas que se utilizan para controlar el flujo de ejecución del código en un programa. En particular, las estructuras de control permiten ejecutar ciertas instrucciones sólo si se cumplen ciertas condiciones o iterar sobre un conjunto de valores.\n",
        "\n",
        "A continuación se presentan algunas de las estructuras de control más comunes en Python, con algunos ejemplos:\n"
      ],
      "metadata": {
        "id": "lly71K5nAfh-"
      }
    },
    {
      "cell_type": "markdown",
      "source": [
        "## Estructuras de control condicionales\n",
        "\n",
        "Las estructuras de control condicionales son aquellas que permiten al programador controlar el flujo de ejecución de un programa en función de ciertas condiciones lógicas que se evalúan en tiempo de ejecución. En Python, la estructura condicional más utilizada es la sentencia $if$."
      ],
      "metadata": {
        "id": "LQJLYLXrApRb"
      }
    },
    {
      "cell_type": "markdown",
      "source": [
        "La sentencia if permite ejecutar un bloque de código si se cumple una determinada condición. La sintaxis básica de la sentencia $if$ es la siguiente:"
      ],
      "metadata": {
        "id": "zrJrb-1ZBDHt"
      }
    },
    {
      "cell_type": "code",
      "execution_count": null,
      "metadata": {
        "id": "7oUVIXFSAcAQ"
      },
      "outputs": [],
      "source": [
        "if condicion:\n",
        "    # bloque de codigo a ejecutar si la condicion es verdadera"
      ]
    },
    {
      "cell_type": "markdown",
      "source": [
        "En este caso, condicion es una expresión lógica que se evalúa como $True$ o $False$. Si condicion es $True$, se ejecuta el bloque de código que sigue a la sentencia $if$. Si condicion es $False$, se salta el bloque de código y se continúa con la ejecución del programa."
      ],
      "metadata": {
        "id": "K9KJb5apBK9u"
      }
    },
    {
      "cell_type": "markdown",
      "source": [
        "Por ejemplo, podemos utilizar la sentencia $if$ para comprobar si un número es positivo o negativo:"
      ],
      "metadata": {
        "id": "XZjnHQjvBK41"
      }
    },
    {
      "cell_type": "code",
      "source": [
        "num = -5\n",
        "\n",
        "if num >= 0:\n",
        "    print(\"El número es positivo\")\n",
        "else:\n",
        "    print(\"El número es negativo\")"
      ],
      "metadata": {
        "id": "U12zb9RsBUJO"
      },
      "execution_count": null,
      "outputs": []
    },
    {
      "cell_type": "markdown",
      "source": [
        "En este ejemplo, la variable num contiene el número $-5$. La condición $num >= 0$ se evalúa como falsa, ya que $-5$ es menor que $0$. Por lo tanto, se ejecuta el bloque de código después de la sentencia $else$, que imprime \"El número es negativo\".\n"
      ],
      "metadata": {
        "id": "5PhFQ7ucBX2D"
      }
    },
    {
      "cell_type": "markdown",
      "source": [
        "La sentencia **if** también puede incluir múltiples condiciones utilizando los operadores **and** y **or**. Por ejemplo, podemos utilizar la sentencia **if** para comprobar si un número es positivo y par:"
      ],
      "metadata": {
        "id": "-aBqMbzpBa2-"
      }
    },
    {
      "cell_type": "code",
      "source": [
        "num = 6\n",
        "\n",
        "if num >= 0 and num % 2 == 0:\n",
        "    print(\"El número es positivo y par\")\n",
        "else:\n",
        "    print(\"El número no es positivo y par\")"
      ],
      "metadata": {
        "id": "nmM8pyTCBYm0"
      },
      "execution_count": null,
      "outputs": []
    },
    {
      "cell_type": "markdown",
      "source": [
        "En este ejemplo, la variable num contiene el número $6$. La condición $num >= 0$ and $num % 2$ == $0$ se evalúa como verdadera, ya que $6$ es mayor o igual que $0$ y es divisible por $2$. Por lo tanto, se ejecuta el bloque de código después de la sentencia if, que imprime \"El número es positivo y par\"."
      ],
      "metadata": {
        "id": "oqHyW9LXBfI7"
      }
    },
    {
      "cell_type": "markdown",
      "source": [
        "Además de la sentencia **if**, Python también cuenta con las sentencias **elif** y **else**, que permiten encadenar varias condiciones y ejecutar distintos bloques de código en función de ellas. La sintaxis básica de estas sentencias es la siguiente:"
      ],
      "metadata": {
        "id": "UYTlk14PCBVY"
      }
    },
    {
      "cell_type": "code",
      "source": [
        "if condicion1:\n",
        "    # bloque de codigo a ejecutar si la condicion1 es verdadera\n",
        "elif condicion2:\n",
        "    # bloque de codigo a ejecutar si la condicion2 es verdadera\n",
        "else:\n",
        "    # bloque de codigo a ejecutar si ninguna de las condiciones anteriores es verdadera"
      ],
      "metadata": {
        "id": "LWdHEQAVB8zq"
      },
      "execution_count": null,
      "outputs": []
    },
    {
      "cell_type": "markdown",
      "source": [
        "Por ejemplo, podemos utilizar las sentencias if, elif y else para clasificar un número en función de su signo:"
      ],
      "metadata": {
        "id": "IWl0oeC9CKJH"
      }
    },
    {
      "cell_type": "code",
      "source": [
        "num = -3\n",
        "\n",
        "if num > 0:\n",
        "    print(\"El número es positivo\")\n",
        "elif num == 0:\n",
        "    print(\"El número es cero\")\n",
        "else:\n",
        "    print(\"El número es negativo\")"
      ],
      "metadata": {
        "id": "6Bmo5WdxCK_G"
      },
      "execution_count": null,
      "outputs": []
    },
    {
      "cell_type": "markdown",
      "source": [
        "En este ejemplo, la variable num contiene el número $-3$. La condición **num > 0** se evalúa como falsa, ya que $-3$ no es mayor que $0$. Por lo tanto, se pasa a la siguiente sentencia **elif**, que comprueba si **num** es igual a $0$. Como esta condición también es falsa, se ejecuta el bloque de código después de la sentencia **else**, que imprime \"El número es negativo\"."
      ],
      "metadata": {
        "id": "g_BWTNbQCUMt"
      }
    },
    {
      "cell_type": "markdown",
      "source": [
        "También es posible anidar sentencias if dentro de otras sentencias if. Esto se utiliza cuando se necesitan realizar varias comprobaciones de forma sucesiva. Por ejemplo, podemos utilizar sentencias if anidadas para comprobar si un número es múltiplo de 2, 3 y 5:"
      ],
      "metadata": {
        "id": "rHnwPrrBCrmy"
      }
    },
    {
      "cell_type": "code",
      "source": [
        "num = 30\n",
        "\n",
        "if num % 2 == 0:\n",
        "    if num % 3 == 0:\n",
        "        if num % 5 == 0:\n",
        "            print(\"El número es múltiplo de 2, 3 y 5\")\n",
        "        else:\n",
        "            print(\"El número es múltiplo de 2 y 3, pero no de 5\")\n",
        "    else:\n",
        "        print(\"El número es múltiplo de 2, pero no de 3\")\n",
        "else:\n",
        "    print(\"El número no es múltiplo de 2\")"
      ],
      "metadata": {
        "id": "zCgciGLCCRdl"
      },
      "execution_count": null,
      "outputs": []
    },
    {
      "cell_type": "markdown",
      "source": [
        "## Estructuras de control bucle\n",
        "\n",
        "Las estructuras de control de bucles en Python permiten ejecutar un bloque de código repetidamente mientras se cumple una determinada condición. Hay dos tipos de bucles en Python: el bucle **while** y el bucle **for**."
      ],
      "metadata": {
        "id": "qKZThj4TDEvq"
      }
    },
    {
      "cell_type": "markdown",
      "source": [
        "### Bucle while\n",
        "\n",
        "El bucle **while** se utiliza para ejecutar un bloque de código mientras se cumpla una determinada condición. La sintaxis es la siguiente:"
      ],
      "metadata": {
        "id": "V5hMgB_pDMk5"
      }
    },
    {
      "cell_type": "code",
      "source": [
        "while condicion:\n",
        "    # bloque de codigo a ejecutar mientras se cumpla la condicion"
      ],
      "metadata": {
        "id": "xIeDkjtxDeKt"
      },
      "execution_count": null,
      "outputs": []
    },
    {
      "cell_type": "markdown",
      "source": [
        "La condición se evalúa en cada iteración del bucle. Mientras la condición sea verdadera, se seguirá ejecutando el bloque de código. Cuando la condición sea falsa, se saldrá del bucle y se continuará la ejecución del programa."
      ],
      "metadata": {
        "id": "4Lw0GhOgDhFt"
      }
    },
    {
      "cell_type": "markdown",
      "source": [
        "Por ejemplo, podemos utilizar un bucle while para imprimir los primeros 10 números naturales:"
      ],
      "metadata": {
        "id": "D1u-7Q4PDj6d"
      }
    },
    {
      "cell_type": "code",
      "source": [
        "num = 1\n",
        "\n",
        "while num <= 10:\n",
        "    print(num)\n",
        "    num += 1"
      ],
      "metadata": {
        "id": "7VQbLyMtDjWs"
      },
      "execution_count": null,
      "outputs": []
    },
    {
      "cell_type": "markdown",
      "source": [
        "En este ejemplo, la variable num se inicializa con el valor 1. La condición num <= 10 se evalúa como verdadera en la primera iteración del bucle, por lo que se ejecuta el bloque de código dentro del bucle, que imprime el valor de num (que es 1) y luego se incrementa en 1 mediante la sentencia num += 1. En la siguiente iteración, la condición se evalúa de nuevo, y como 2 es menor o igual a 10, se vuelve a ejecutar el bloque de código, que imprime el valor 2 y luego incrementa num a 3. Este proceso se repite hasta que num llega a 11, momento en que la condición num <= 10 se evalúa como falsa, y se sale del bucle."
      ],
      "metadata": {
        "id": "JpOH_m5sDmwa"
      }
    },
    {
      "cell_type": "markdown",
      "source": [
        "### Bucle for\n",
        "\n",
        "El bucle for se utiliza para iterar sobre una secuencia de elementos (como una lista, una tupla, un diccionario, etc.) y ejecutar un bloque de código para cada elemento de la secuencia. La sintaxis es la siguiente:"
      ],
      "metadata": {
        "id": "cDMm1tDWDn6b"
      }
    },
    {
      "cell_type": "code",
      "source": [
        "for elemento in secuencia:\n",
        "    # bloque de codigo a ejecutar para cada elemento de la secuencia"
      ],
      "metadata": {
        "id": "Yoi4CAX6DrvY"
      },
      "execution_count": null,
      "outputs": []
    },
    {
      "cell_type": "markdown",
      "source": [
        "En cada iteración del bucle, la variable elemento toma el valor de uno de los elementos de la secuencia, y se ejecuta el bloque de código correspondiente. Cuando se han procesado todos los elementos de la secuencia, se sale del bucle y se continúa la ejecución del programa."
      ],
      "metadata": {
        "id": "kBidncT5Dvvz"
      }
    },
    {
      "cell_type": "markdown",
      "source": [
        "También se pueden combinar los bucles for y range para iterar sobre una secuencia de números:"
      ],
      "metadata": {
        "id": "BUUIbyl-EE5J"
      }
    },
    {
      "cell_type": "code",
      "source": [
        "for i in range(1, 11):\n",
        "    print(i)"
      ],
      "metadata": {
        "id": "d7N4qJcoEFgK"
      },
      "execution_count": null,
      "outputs": []
    },
    {
      "cell_type": "markdown",
      "source": [
        "Por ejemplo, podemos utilizar un bucle for para sumar los primeros 10 números naturales:"
      ],
      "metadata": {
        "id": "lc4TkzKPDxIz"
      }
    },
    {
      "cell_type": "code",
      "source": [
        "suma = 0\n",
        "\n",
        "for num in range(1, 11):\n",
        "    suma += num\n",
        "\n",
        "print(suma)"
      ],
      "metadata": {
        "id": "x07exKf3Dxod"
      },
      "execution_count": null,
      "outputs": []
    },
    {
      "cell_type": "markdown",
      "source": [
        "En este ejemplo, la función range(1, 11) genera una secuencia de números desde 1 hasta 10 (ambos incluidos). En cada iteración del bucle, la variable num toma el valor de uno de los números de la secuencia, y se suma a la variable suma mediante la sentencia suma += num. Cuando se han procesado todos los números de la secuencia, se sale del bucle y se imprime el valor de suma."
      ],
      "metadata": {
        "id": "AyGqQ7JPD2li"
      }
    },
    {
      "cell_type": "markdown",
      "source": [
        "Por ejemplo, el siguiente código utiliza un bucle for para imprimir los elementos de una lista:"
      ],
      "metadata": {
        "id": "avxHWc6fD5gt"
      }
    },
    {
      "cell_type": "code",
      "source": [
        "frutas = [\"manzana\", \"banana\", \"naranja\"]\n",
        "\n",
        "for fruta in frutas:\n",
        "    print(fruta)"
      ],
      "metadata": {
        "id": "EzeZ1VyYD6dj"
      },
      "execution_count": null,
      "outputs": []
    }
  ]
}