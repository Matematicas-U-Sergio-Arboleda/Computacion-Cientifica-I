{
  "nbformat": 4,
  "nbformat_minor": 0,
  "metadata": {
    "colab": {
      "provenance": []
    },
    "kernelspec": {
      "name": "python3",
      "display_name": "Python 3"
    },
    "language_info": {
      "name": "python"
    }
  },
  "cells": [
    {
      "cell_type": "markdown",
      "source": [
        "# Condicionales "
      ],
      "metadata": {
        "id": "2ENeWzOgibZg"
      }
    },
    {
      "cell_type": "code",
      "execution_count": null,
      "metadata": {
        "colab": {
          "base_uri": "https://localhost:8080/"
        },
        "id": "If0kHOgZiEFS",
        "outputId": "356fd8e0-5c32-4905-f0cb-a6865279bf77"
      },
      "outputs": [
        {
          "output_type": "stream",
          "name": "stdout",
          "text": [
            "Por favor ingrese un número10\n",
            "El número  14  es mayor a   10\n"
          ]
        }
      ],
      "source": [
        "# Condicionales con valores númericos\n",
        "number = 14\n",
        "invitado = int(input(\"Por favor ingrese un número\"))\n",
        "\n",
        "if number == invitado:\n",
        "    print('El número ', number, ' es igual a ', invitado )\n",
        "elif number > invitado:\n",
        "    print('El número ', number, ' es mayor a  ', invitado )\n",
        "else:\n",
        "    print('El número ', number, ' es menor que  ', invitado )"
      ]
    },
    {
      "cell_type": "code",
      "source": [
        "# Condicional con valores Booleanos directamente\n",
        "\n",
        "a = True \n",
        "\n",
        "if a:\n",
        "  print('el valor de a es verdadero')"
      ],
      "metadata": {
        "colab": {
          "base_uri": "https://localhost:8080/"
        },
        "id": "rP_eJSyClrzS",
        "outputId": "09c6c4c4-a635-4cca-cadf-b45284e61bad"
      },
      "execution_count": null,
      "outputs": [
        {
          "output_type": "stream",
          "name": "stdout",
          "text": [
            "el valor de a es verdadero\n"
          ]
        }
      ]
    },
    {
      "cell_type": "markdown",
      "source": [
        "# La declaración while"
      ],
      "metadata": {
        "id": "_wMHhxo3oRXV"
      }
    },
    {
      "cell_type": "code",
      "source": [
        "number = 23\n",
        "ejecutando = True\n",
        "\n",
        "while ejecutando:\n",
        "  invitado = int(input(\"Escribe un número aleatorio del 1 al 50\"))\n",
        "  if number == invitado:\n",
        "    print('Felicitaciones, ese es el número' )\n",
        "    ejecutando = False\n",
        "  elif number > invitado:\n",
        "      print('El número es un poco mas grande')\n",
        "  else:\n",
        "      print('El número es un poco mas pequeño' )\n",
        "else:\n",
        "  print('EL programa ha finalizado satisfactoriamente')\n"
      ],
      "metadata": {
        "colab": {
          "base_uri": "https://localhost:8080/"
        },
        "id": "eL-tlzc4oWe0",
        "outputId": "98d2934c-76c0-47da-8cd3-9c9b55a35c19"
      },
      "execution_count": null,
      "outputs": [
        {
          "output_type": "stream",
          "name": "stdout",
          "text": [
            "Escribe un número aleatorio del 1 al 5023\n",
            "Felicitaciones, ese es el número\n",
            "EL programa ha finalizado satisfactoriamente\n"
          ]
        }
      ]
    },
    {
      "cell_type": "markdown",
      "source": [
        "# El loop o bucle for"
      ],
      "metadata": {
        "id": "-2MFIAhLqsX8"
      }
    },
    {
      "cell_type": "code",
      "source": [
        "#for para intervalos de números\n",
        "pares = []\n",
        "\n",
        "for i in range(1,101):  # el intervalo va de 1 a 4\n",
        "  residuo = i%2\n",
        "  if residuo == 0:\n",
        "    pares.append(i)\n",
        "    print('el número par ', i, ' ha ido agregado satisfactoriamente')\n",
        "  else:\n",
        "    print('el número ', i , ' es impar, no se agregará')"
      ],
      "metadata": {
        "colab": {
          "base_uri": "https://localhost:8080/"
        },
        "id": "Rh5s9fAaqwpO",
        "outputId": "a75e3b92-89a7-4b72-9c77-ace311de24fc"
      },
      "execution_count": null,
      "outputs": [
        {
          "output_type": "stream",
          "name": "stdout",
          "text": [
            "el número  1  es impar, no se agregará\n",
            "el número par  2  ha ido agregado satisfactoriamente\n",
            "el número  3  es impar, no se agregará\n",
            "el número par  4  ha ido agregado satisfactoriamente\n",
            "el número  5  es impar, no se agregará\n",
            "el número par  6  ha ido agregado satisfactoriamente\n",
            "el número  7  es impar, no se agregará\n",
            "el número par  8  ha ido agregado satisfactoriamente\n",
            "el número  9  es impar, no se agregará\n",
            "el número par  10  ha ido agregado satisfactoriamente\n",
            "el número  11  es impar, no se agregará\n",
            "el número par  12  ha ido agregado satisfactoriamente\n",
            "el número  13  es impar, no se agregará\n",
            "el número par  14  ha ido agregado satisfactoriamente\n",
            "el número  15  es impar, no se agregará\n",
            "el número par  16  ha ido agregado satisfactoriamente\n",
            "el número  17  es impar, no se agregará\n",
            "el número par  18  ha ido agregado satisfactoriamente\n",
            "el número  19  es impar, no se agregará\n",
            "el número par  20  ha ido agregado satisfactoriamente\n",
            "el número  21  es impar, no se agregará\n",
            "el número par  22  ha ido agregado satisfactoriamente\n",
            "el número  23  es impar, no se agregará\n",
            "el número par  24  ha ido agregado satisfactoriamente\n",
            "el número  25  es impar, no se agregará\n",
            "el número par  26  ha ido agregado satisfactoriamente\n",
            "el número  27  es impar, no se agregará\n",
            "el número par  28  ha ido agregado satisfactoriamente\n",
            "el número  29  es impar, no se agregará\n",
            "el número par  30  ha ido agregado satisfactoriamente\n",
            "el número  31  es impar, no se agregará\n",
            "el número par  32  ha ido agregado satisfactoriamente\n",
            "el número  33  es impar, no se agregará\n",
            "el número par  34  ha ido agregado satisfactoriamente\n",
            "el número  35  es impar, no se agregará\n",
            "el número par  36  ha ido agregado satisfactoriamente\n",
            "el número  37  es impar, no se agregará\n",
            "el número par  38  ha ido agregado satisfactoriamente\n",
            "el número  39  es impar, no se agregará\n",
            "el número par  40  ha ido agregado satisfactoriamente\n",
            "el número  41  es impar, no se agregará\n",
            "el número par  42  ha ido agregado satisfactoriamente\n",
            "el número  43  es impar, no se agregará\n",
            "el número par  44  ha ido agregado satisfactoriamente\n",
            "el número  45  es impar, no se agregará\n",
            "el número par  46  ha ido agregado satisfactoriamente\n",
            "el número  47  es impar, no se agregará\n",
            "el número par  48  ha ido agregado satisfactoriamente\n",
            "el número  49  es impar, no se agregará\n",
            "el número par  50  ha ido agregado satisfactoriamente\n",
            "el número  51  es impar, no se agregará\n",
            "el número par  52  ha ido agregado satisfactoriamente\n",
            "el número  53  es impar, no se agregará\n",
            "el número par  54  ha ido agregado satisfactoriamente\n",
            "el número  55  es impar, no se agregará\n",
            "el número par  56  ha ido agregado satisfactoriamente\n",
            "el número  57  es impar, no se agregará\n",
            "el número par  58  ha ido agregado satisfactoriamente\n",
            "el número  59  es impar, no se agregará\n",
            "el número par  60  ha ido agregado satisfactoriamente\n",
            "el número  61  es impar, no se agregará\n",
            "el número par  62  ha ido agregado satisfactoriamente\n",
            "el número  63  es impar, no se agregará\n",
            "el número par  64  ha ido agregado satisfactoriamente\n",
            "el número  65  es impar, no se agregará\n",
            "el número par  66  ha ido agregado satisfactoriamente\n",
            "el número  67  es impar, no se agregará\n",
            "el número par  68  ha ido agregado satisfactoriamente\n",
            "el número  69  es impar, no se agregará\n",
            "el número par  70  ha ido agregado satisfactoriamente\n",
            "el número  71  es impar, no se agregará\n",
            "el número par  72  ha ido agregado satisfactoriamente\n",
            "el número  73  es impar, no se agregará\n",
            "el número par  74  ha ido agregado satisfactoriamente\n",
            "el número  75  es impar, no se agregará\n",
            "el número par  76  ha ido agregado satisfactoriamente\n",
            "el número  77  es impar, no se agregará\n",
            "el número par  78  ha ido agregado satisfactoriamente\n",
            "el número  79  es impar, no se agregará\n",
            "el número par  80  ha ido agregado satisfactoriamente\n",
            "el número  81  es impar, no se agregará\n",
            "el número par  82  ha ido agregado satisfactoriamente\n",
            "el número  83  es impar, no se agregará\n",
            "el número par  84  ha ido agregado satisfactoriamente\n",
            "el número  85  es impar, no se agregará\n",
            "el número par  86  ha ido agregado satisfactoriamente\n",
            "el número  87  es impar, no se agregará\n",
            "el número par  88  ha ido agregado satisfactoriamente\n",
            "el número  89  es impar, no se agregará\n",
            "el número par  90  ha ido agregado satisfactoriamente\n",
            "el número  91  es impar, no se agregará\n",
            "el número par  92  ha ido agregado satisfactoriamente\n",
            "el número  93  es impar, no se agregará\n",
            "el número par  94  ha ido agregado satisfactoriamente\n",
            "el número  95  es impar, no se agregará\n",
            "el número par  96  ha ido agregado satisfactoriamente\n",
            "el número  97  es impar, no se agregará\n",
            "el número par  98  ha ido agregado satisfactoriamente\n",
            "el número  99  es impar, no se agregará\n",
            "el número par  100  ha ido agregado satisfactoriamente\n"
          ]
        }
      ]
    },
    {
      "cell_type": "code",
      "source": [
        "pares"
      ],
      "metadata": {
        "colab": {
          "base_uri": "https://localhost:8080/"
        },
        "id": "4KSwI4qdtK_o",
        "outputId": "c5b52235-732d-4e80-a90b-fc83c52aeaec"
      },
      "execution_count": null,
      "outputs": [
        {
          "output_type": "execute_result",
          "data": {
            "text/plain": [
              "[2,\n",
              " 4,\n",
              " 6,\n",
              " 8,\n",
              " 10,\n",
              " 12,\n",
              " 14,\n",
              " 16,\n",
              " 18,\n",
              " 20,\n",
              " 22,\n",
              " 24,\n",
              " 26,\n",
              " 28,\n",
              " 30,\n",
              " 32,\n",
              " 34,\n",
              " 36,\n",
              " 38,\n",
              " 40,\n",
              " 42,\n",
              " 44,\n",
              " 46,\n",
              " 48,\n",
              " 50,\n",
              " 52,\n",
              " 54,\n",
              " 56,\n",
              " 58,\n",
              " 60,\n",
              " 62,\n",
              " 64,\n",
              " 66,\n",
              " 68,\n",
              " 70,\n",
              " 72,\n",
              " 74,\n",
              " 76,\n",
              " 78,\n",
              " 80,\n",
              " 82,\n",
              " 84,\n",
              " 86,\n",
              " 88,\n",
              " 90,\n",
              " 92,\n",
              " 94,\n",
              " 96,\n",
              " 98,\n",
              " 100]"
            ]
          },
          "metadata": {},
          "execution_count": 5
        }
      ]
    },
    {
      "cell_type": "code",
      "source": [
        "multiplos_de_cuatro = []\n",
        "\n",
        "for j in pares:\n",
        "  residuo = j%4\n",
        "  if residuo == 0:\n",
        "    print(j)\n",
        "    multiplos_de_cuatro.append(j)"
      ],
      "metadata": {
        "colab": {
          "base_uri": "https://localhost:8080/"
        },
        "id": "yN-mXLNSudgs",
        "outputId": "9fa1cb48-4554-4a62-d5ef-ec28ff572175"
      },
      "execution_count": null,
      "outputs": [
        {
          "output_type": "stream",
          "name": "stdout",
          "text": [
            "4\n",
            "8\n",
            "12\n",
            "16\n",
            "20\n",
            "24\n",
            "28\n",
            "32\n",
            "36\n",
            "40\n",
            "44\n",
            "48\n",
            "52\n",
            "56\n",
            "60\n",
            "64\n",
            "68\n",
            "72\n",
            "76\n",
            "80\n",
            "84\n",
            "88\n",
            "92\n",
            "96\n",
            "100\n"
          ]
        }
      ]
    },
    {
      "cell_type": "code",
      "source": [
        "len(multiplos_de_cuatro)"
      ],
      "metadata": {
        "colab": {
          "base_uri": "https://localhost:8080/"
        },
        "id": "y99KZ1ygwON8",
        "outputId": "abfc92b7-79a6-44ed-fc0e-00e675beea99"
      },
      "execution_count": null,
      "outputs": [
        {
          "output_type": "execute_result",
          "data": {
            "text/plain": [
              "25"
            ]
          },
          "metadata": {},
          "execution_count": 7
        }
      ]
    },
    {
      "cell_type": "markdown",
      "source": [
        "## Divisores de un número"
      ],
      "metadata": {
        "id": "goofIuTl093m"
      }
    },
    {
      "cell_type": "code",
      "source": [
        "divisores = []\n",
        "numero = int(input('Ingrese un número'))\n",
        "for k in range(1,numero+1):\n",
        "  residuo = numero%k\n",
        "  if residuo == 0:\n",
        "    divisores.append(k)\n",
        "divisores"
      ],
      "metadata": {
        "colab": {
          "base_uri": "https://localhost:8080/"
        },
        "id": "f3iHDNp81Bgm",
        "outputId": "25ae6073-0d54-41c8-9121-ea3808b1437e"
      },
      "execution_count": null,
      "outputs": [
        {
          "name": "stdout",
          "output_type": "stream",
          "text": [
            "Ingrese un número5\n"
          ]
        },
        {
          "output_type": "execute_result",
          "data": {
            "text/plain": [
              "[1, 5]"
            ]
          },
          "metadata": {},
          "execution_count": 8
        }
      ]
    },
    {
      "cell_type": "code",
      "source": [
        "def diviso(numero):\n",
        "    divisores = []\n",
        "    for k in range(1,numero+1):\n",
        "      residuo = numero%k\n",
        "      if residuo == 0:\n",
        "        divisores.append(k)\n",
        "    return divisores"
      ],
      "metadata": {
        "id": "hcp0ZAclQuUi"
      },
      "execution_count": null,
      "outputs": []
    },
    {
      "cell_type": "code",
      "source": [
        "def is_prime(a):\n",
        "    can_divisores = len(diviso(a))  \n",
        "    if can_divisores == 2:\n",
        "        return True\n",
        "    else:\n",
        "        return False"
      ],
      "metadata": {
        "id": "6oZQJ8hTTTcD"
      },
      "execution_count": null,
      "outputs": []
    },
    {
      "cell_type": "code",
      "source": [
        "primos = []\n",
        "n = int(input('Por favor ingrese hasta que número desea ver los primos menores o iguales que'))\n",
        "for k in range(1,n+1):\n",
        "    print(is_prime(k))\n",
        "    if is_prime(k):\n",
        "      primos.append(k)\n",
        "    else:\n",
        "      continue\n",
        "\n",
        "primos"
      ],
      "metadata": {
        "colab": {
          "base_uri": "https://localhost:8080/"
        },
        "id": "uwbm_BykTKcq",
        "outputId": "42a57560-a99a-44a4-cbee-40246d3b9503"
      },
      "execution_count": null,
      "outputs": [
        {
          "output_type": "stream",
          "name": "stdout",
          "text": [
            "Por favor ingrese hasta que número desea ver los primos menores o iguales que100\n",
            "False\n",
            "True\n",
            "True\n",
            "False\n",
            "True\n",
            "False\n",
            "True\n",
            "False\n",
            "False\n",
            "False\n",
            "True\n",
            "False\n",
            "True\n",
            "False\n",
            "False\n",
            "False\n",
            "True\n",
            "False\n",
            "True\n",
            "False\n",
            "False\n",
            "False\n",
            "True\n",
            "False\n",
            "False\n",
            "False\n",
            "False\n",
            "False\n",
            "True\n",
            "False\n",
            "True\n",
            "False\n",
            "False\n",
            "False\n",
            "False\n",
            "False\n",
            "True\n",
            "False\n",
            "False\n",
            "False\n",
            "True\n",
            "False\n",
            "True\n",
            "False\n",
            "False\n",
            "False\n",
            "True\n",
            "False\n",
            "False\n",
            "False\n",
            "False\n",
            "False\n",
            "True\n",
            "False\n",
            "False\n",
            "False\n",
            "False\n",
            "False\n",
            "True\n",
            "False\n",
            "True\n",
            "False\n",
            "False\n",
            "False\n",
            "False\n",
            "False\n",
            "True\n",
            "False\n",
            "False\n",
            "False\n",
            "True\n",
            "False\n",
            "True\n",
            "False\n",
            "False\n",
            "False\n",
            "False\n",
            "False\n",
            "True\n",
            "False\n",
            "False\n",
            "False\n",
            "True\n",
            "False\n",
            "False\n",
            "False\n",
            "False\n",
            "False\n",
            "True\n",
            "False\n",
            "False\n",
            "False\n",
            "False\n",
            "False\n",
            "False\n",
            "False\n",
            "True\n",
            "False\n",
            "False\n",
            "False\n"
          ]
        },
        {
          "output_type": "execute_result",
          "data": {
            "text/plain": [
              "[2,\n",
              " 3,\n",
              " 5,\n",
              " 7,\n",
              " 11,\n",
              " 13,\n",
              " 17,\n",
              " 19,\n",
              " 23,\n",
              " 29,\n",
              " 31,\n",
              " 37,\n",
              " 41,\n",
              " 43,\n",
              " 47,\n",
              " 53,\n",
              " 59,\n",
              " 61,\n",
              " 67,\n",
              " 71,\n",
              " 73,\n",
              " 79,\n",
              " 83,\n",
              " 89,\n",
              " 97]"
            ]
          },
          "metadata": {},
          "execution_count": 18
        }
      ]
    }
  ]
}