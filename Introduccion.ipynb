{
  "nbformat": 4,
  "nbformat_minor": 0,
  "metadata": {
    "colab": {
      "provenance": []
    },
    "kernelspec": {
      "name": "python3",
      "display_name": "Python 3"
    },
    "language_info": {
      "name": "python"
    },
    "accelerator": "GPU",
    "gpuClass": "standard"
  },
  "cells": [
    {
      "cell_type": "markdown",
      "source": [
        "## Variables en Python"
      ],
      "metadata": {
        "id": "xwiSOXHDuQNu"
      }
    },
    {
      "cell_type": "markdown",
      "source": [
        "Para asignar variables:\n",
        "- No nombren a las variables con espacios"
      ],
      "metadata": {
        "id": "6SlPggO9vA4F"
      }
    },
    {
      "cell_type": "code",
      "source": [
        "# numero uno =  "
      ],
      "metadata": {
        "id": "1Cwnfczbq_xE"
      },
      "execution_count": null,
      "outputs": []
    },
    {
      "cell_type": "markdown",
      "source": [
        "* Colocar el valor de la variable a la izquierda"
      ],
      "metadata": {
        "id": "eJr-DwA9uPif"
      }
    },
    {
      "cell_type": "code",
      "source": [
        "# 1 = x"
      ],
      "metadata": {
        "id": "Wcq_0mBkvQsU"
      },
      "execution_count": null,
      "outputs": []
    },
    {
      "cell_type": "code",
      "source": [
        "# \n",
        "numero_uno =  13\n",
        "x = 52\n",
        "i_uno = 98"
      ],
      "metadata": {
        "id": "M8asJCzivWUG"
      },
      "execution_count": null,
      "outputs": []
    },
    {
      "cell_type": "code",
      "source": [
        "print(i_uno)   # Esta función nos ayuda a visualizar la variable en el entorno de ejecución"
      ],
      "metadata": {
        "id": "8aPJGvFbwGQN",
        "colab": {
          "base_uri": "https://localhost:8080/"
        },
        "outputId": "7ab360e9-3010-43b6-c2f8-72bd6d20b5a2"
      },
      "execution_count": null,
      "outputs": [
        {
          "output_type": "stream",
          "name": "stdout",
          "text": [
            "98\n"
          ]
        }
      ]
    },
    {
      "cell_type": "markdown",
      "source": [
        "# Tipos de variables"
      ],
      "metadata": {
        "id": "dwZ8x94qxIld"
      }
    },
    {
      "cell_type": "markdown",
      "source": [
        "## Números Enteros"
      ],
      "metadata": {
        "id": "cH2Gf62qxK0l"
      }
    },
    {
      "cell_type": "code",
      "source": [
        "entero_1 = 89"
      ],
      "metadata": {
        "id": "6YotzIQkw6sO"
      },
      "execution_count": null,
      "outputs": []
    },
    {
      "cell_type": "code",
      "source": [
        "type(entero_1)"
      ],
      "metadata": {
        "id": "lAane78dxPRV",
        "colab": {
          "base_uri": "https://localhost:8080/"
        },
        "outputId": "b6ae8cd1-140b-4b95-da93-bb50a3c103aa"
      },
      "execution_count": null,
      "outputs": [
        {
          "output_type": "execute_result",
          "data": {
            "text/plain": [
              "int"
            ]
          },
          "metadata": {},
          "execution_count": 6
        }
      ]
    },
    {
      "cell_type": "markdown",
      "source": [
        "## Números Reales o Números flotantes (float)"
      ],
      "metadata": {
        "id": "KF9L04LfxXD9"
      }
    },
    {
      "cell_type": "code",
      "source": [
        "pi = 3.141516"
      ],
      "metadata": {
        "id": "5KSS1VVxxpF0"
      },
      "execution_count": null,
      "outputs": []
    },
    {
      "cell_type": "code",
      "source": [
        "type(pi)"
      ],
      "metadata": {
        "id": "nWlhLeVaxqVm",
        "colab": {
          "base_uri": "https://localhost:8080/"
        },
        "outputId": "c5344973-f4a2-421d-ff3c-52c0685e3fac"
      },
      "execution_count": null,
      "outputs": [
        {
          "output_type": "execute_result",
          "data": {
            "text/plain": [
              "float"
            ]
          },
          "metadata": {},
          "execution_count": 8
        }
      ]
    },
    {
      "cell_type": "markdown",
      "source": [
        "## Números Complejos"
      ],
      "metadata": {
        "id": "bSk9x4MUxvGU"
      }
    },
    {
      "cell_type": "code",
      "source": [
        "x_1 = 1 + 5j"
      ],
      "metadata": {
        "id": "3zcGOPIxxydY"
      },
      "execution_count": null,
      "outputs": []
    },
    {
      "cell_type": "code",
      "source": [
        "type(x_1)"
      ],
      "metadata": {
        "id": "vGeWmSsSx7qt",
        "colab": {
          "base_uri": "https://localhost:8080/"
        },
        "outputId": "6ee8553c-89d5-4a23-d2c3-f6c3758bff57"
      },
      "execution_count": null,
      "outputs": [
        {
          "output_type": "execute_result",
          "data": {
            "text/plain": [
              "complex"
            ]
          },
          "metadata": {},
          "execution_count": 10
        }
      ]
    },
    {
      "cell_type": "markdown",
      "source": [
        "## Variable de texto o String, cadena de texto"
      ],
      "metadata": {
        "id": "rvgYB8BuyUym"
      }
    },
    {
      "cell_type": "code",
      "source": [
        "nombre = \"Edward Camelo\"\n",
        "ciudad = 'Bogotá'\n",
        "Direccion = \"\"\"\n",
        "              Calle 8a 45 85 \n",
        "              111021\n",
        "              Colombia\n",
        "              Bogotá\n",
        "            \"\"\"\n",
        "direccion = '''\n",
        "              Calle 8a 45 85 \n",
        "              111021\n",
        "              Colombia\n",
        "              Bogotá\n",
        "\n",
        "            '''"
      ],
      "metadata": {
        "id": "DIzyio8DyxTF"
      },
      "execution_count": null,
      "outputs": []
    },
    {
      "cell_type": "code",
      "source": [
        "type(nombre)"
      ],
      "metadata": {
        "id": "uAfpB8h_zOrO",
        "colab": {
          "base_uri": "https://localhost:8080/"
        },
        "outputId": "dfaac2db-51ae-48ca-b652-363a0385fced"
      },
      "execution_count": null,
      "outputs": [
        {
          "output_type": "execute_result",
          "data": {
            "text/plain": [
              "str"
            ]
          },
          "metadata": {},
          "execution_count": 12
        }
      ]
    },
    {
      "cell_type": "markdown",
      "source": [
        "## Listas "
      ],
      "metadata": {
        "id": "QmKJAwLdPbVr"
      }
    },
    {
      "cell_type": "code",
      "source": [
        "lista = [34, 'Nairo Quintana', 52.4, True]"
      ],
      "metadata": {
        "id": "biqCToR-Pd3q"
      },
      "execution_count": null,
      "outputs": []
    },
    {
      "cell_type": "code",
      "source": [
        "hoja_de_excel = [['A','B','C'],[1,45,89],[True,False,'logica']]"
      ],
      "metadata": {
        "id": "z1x8jMo4QR-i"
      },
      "execution_count": null,
      "outputs": []
    },
    {
      "cell_type": "code",
      "source": [
        "lista[4]"
      ],
      "metadata": {
        "colab": {
          "base_uri": "https://localhost:8080/",
          "height": 165
        },
        "id": "SOa4uiutQOOT",
        "outputId": "da221769-4ca0-4e3a-a27f-92379a8bf868"
      },
      "execution_count": null,
      "outputs": [
        {
          "output_type": "error",
          "ename": "IndexError",
          "evalue": "ignored",
          "traceback": [
            "\u001b[0;31m---------------------------------------------------------------------------\u001b[0m",
            "\u001b[0;31mIndexError\u001b[0m                                Traceback (most recent call last)",
            "\u001b[0;32m<ipython-input-21-09bfed834fa2>\u001b[0m in \u001b[0;36m<module>\u001b[0;34m\u001b[0m\n\u001b[0;32m----> 1\u001b[0;31m \u001b[0mlista\u001b[0m\u001b[0;34m[\u001b[0m\u001b[0;36m4\u001b[0m\u001b[0;34m]\u001b[0m\u001b[0;34m\u001b[0m\u001b[0;34m\u001b[0m\u001b[0m\n\u001b[0m",
            "\u001b[0;31mIndexError\u001b[0m: list index out of range"
          ]
        }
      ]
    },
    {
      "cell_type": "code",
      "source": [
        "type(lista)"
      ],
      "metadata": {
        "colab": {
          "base_uri": "https://localhost:8080/"
        },
        "id": "feGZtDlPRo0b",
        "outputId": "cb7364e5-7da2-4d62-82cb-d3d6d9327c5b"
      },
      "execution_count": null,
      "outputs": [
        {
          "output_type": "execute_result",
          "data": {
            "text/plain": [
              "list"
            ]
          },
          "metadata": {},
          "execution_count": 22
        }
      ]
    },
    {
      "cell_type": "markdown",
      "source": [
        "## Variable Booleana"
      ],
      "metadata": {
        "id": "ex4piP-RP5Cd"
      }
    },
    {
      "cell_type": "code",
      "source": [
        "verdadero = True\n",
        "falso = False"
      ],
      "metadata": {
        "id": "5iuKzYl4P77V"
      },
      "execution_count": null,
      "outputs": []
    },
    {
      "cell_type": "code",
      "source": [
        "type(verdadero)"
      ],
      "metadata": {
        "colab": {
          "base_uri": "https://localhost:8080/"
        },
        "id": "HjRd9sPERthq",
        "outputId": "4eafc1d8-dd4d-466c-be73-240e18100a94"
      },
      "execution_count": null,
      "outputs": [
        {
          "output_type": "execute_result",
          "data": {
            "text/plain": [
              "bool"
            ]
          },
          "metadata": {},
          "execution_count": 24
        }
      ]
    },
    {
      "cell_type": "markdown",
      "source": [
        "## Diccionarios\n",
        "dict = { key : variable correspondiente   }"
      ],
      "metadata": {
        "id": "MNdkqtRqRezs"
      }
    },
    {
      "cell_type": "code",
      "source": [
        "informacion_personal = {'name': 'Edward Camelo', 'edad' : 26 , 'direccion' : 'Dia 78 # 85 92' ,\n",
        "                        'estudiante' : False, 15 : 'quince', 'investigacion' : ['IA','Physics','Data']\n",
        "                        }"
      ],
      "metadata": {
        "id": "zCsmCQUrR0t6"
      },
      "execution_count": null,
      "outputs": []
    },
    {
      "cell_type": "code",
      "source": [
        "print(informacion_personal)"
      ],
      "metadata": {
        "colab": {
          "base_uri": "https://localhost:8080/"
        },
        "id": "QzyTmBn-TkoL",
        "outputId": "99831bd5-8b43-4689-a76c-d06ac2c20a86"
      },
      "execution_count": null,
      "outputs": [
        {
          "output_type": "stream",
          "name": "stdout",
          "text": [
            "{'name': 'Edward Camelo', 'edad': 26, 'direccion': 'Dia 78 # 85 92', 'estudiante': False, 15: 'quince', 'investigacion': ['IA', 'Physics', 'Data']}\n"
          ]
        }
      ]
    },
    {
      "cell_type": "code",
      "source": [
        "informacion_personal['investigacion']"
      ],
      "metadata": {
        "colab": {
          "base_uri": "https://localhost:8080/"
        },
        "id": "_xxwtXUsTpwc",
        "outputId": "61a60558-68d8-4f0e-847a-7b5e5fd0c713"
      },
      "execution_count": null,
      "outputs": [
        {
          "output_type": "execute_result",
          "data": {
            "text/plain": [
              "['IA', 'Physics', 'Data']"
            ]
          },
          "metadata": {},
          "execution_count": 32
        }
      ]
    },
    {
      "cell_type": "code",
      "source": [
        "type(informacion_personal)"
      ],
      "metadata": {
        "colab": {
          "base_uri": "https://localhost:8080/"
        },
        "id": "Gwu9yqc7Wgkd",
        "outputId": "61a17bf4-d27b-4dd4-c0b5-27056337821f"
      },
      "execution_count": null,
      "outputs": [
        {
          "output_type": "execute_result",
          "data": {
            "text/plain": [
              "dict"
            ]
          },
          "metadata": {},
          "execution_count": 33
        }
      ]
    },
    {
      "cell_type": "markdown",
      "source": [
        "#Variable Tupla"
      ],
      "metadata": {
        "id": "Io40jf9lWIh7"
      }
    },
    {
      "cell_type": "code",
      "source": [
        "tupla1 = (5,6,'hello')"
      ],
      "metadata": {
        "id": "maAPxZgnWHjk"
      },
      "execution_count": null,
      "outputs": []
    },
    {
      "cell_type": "code",
      "source": [
        "tupla1[2]"
      ],
      "metadata": {
        "colab": {
          "base_uri": "https://localhost:8080/",
          "height": 36
        },
        "id": "uvYF8Op9WvAE",
        "outputId": "c019325e-9167-4d77-939e-9b95009f5792"
      },
      "execution_count": null,
      "outputs": [
        {
          "output_type": "execute_result",
          "data": {
            "text/plain": [
              "'hello'"
            ],
            "application/vnd.google.colaboratory.intrinsic+json": {
              "type": "string"
            }
          },
          "metadata": {},
          "execution_count": 40
        }
      ]
    },
    {
      "cell_type": "code",
      "source": [
        "type(tupla1)"
      ],
      "metadata": {
        "colab": {
          "base_uri": "https://localhost:8080/"
        },
        "id": "jISuvGK1W4Yk",
        "outputId": "a62c234d-781d-4ba6-a163-9d7b45cd5eda"
      },
      "execution_count": null,
      "outputs": [
        {
          "output_type": "execute_result",
          "data": {
            "text/plain": [
              "tuple"
            ]
          },
          "metadata": {},
          "execution_count": 41
        }
      ]
    },
    {
      "cell_type": "markdown",
      "source": [
        "# Operaciones entre variables"
      ],
      "metadata": {
        "id": "EMz83B0pXM4T"
      }
    },
    {
      "cell_type": "markdown",
      "source": [
        "## Operaciones con variables numericas"
      ],
      "metadata": {
        "id": "N1aQ9RVEXPAF"
      }
    },
    {
      "cell_type": "markdown",
      "source": [
        "### Suma"
      ],
      "metadata": {
        "id": "A-VMaJ1SXUll"
      }
    },
    {
      "cell_type": "code",
      "source": [
        "x = 24\n",
        "y = 8"
      ],
      "metadata": {
        "id": "1cyMHE-VXSv8"
      },
      "execution_count": null,
      "outputs": []
    },
    {
      "cell_type": "code",
      "source": [
        "z = x+y"
      ],
      "metadata": {
        "id": "3Zms2qWzXZtE"
      },
      "execution_count": null,
      "outputs": []
    },
    {
      "cell_type": "code",
      "source": [
        "type(z)"
      ],
      "metadata": {
        "colab": {
          "base_uri": "https://localhost:8080/"
        },
        "id": "SYZJlVc-XiLF",
        "outputId": "6e7bb736-b9bc-4f9e-e9cc-9b2817e0847c"
      },
      "execution_count": null,
      "outputs": [
        {
          "output_type": "execute_result",
          "data": {
            "text/plain": [
              "int"
            ]
          },
          "metadata": {},
          "execution_count": 45
        }
      ]
    },
    {
      "cell_type": "markdown",
      "source": [
        "### Resta"
      ],
      "metadata": {
        "id": "wO35C-3HXovv"
      }
    },
    {
      "cell_type": "code",
      "source": [
        "x = 24\n",
        "y = 8"
      ],
      "metadata": {
        "id": "CFRKKgaHXqXs"
      },
      "execution_count": null,
      "outputs": []
    },
    {
      "cell_type": "code",
      "source": [
        "z = x-y"
      ],
      "metadata": {
        "id": "ErRK6Bg3XsGb"
      },
      "execution_count": null,
      "outputs": []
    },
    {
      "cell_type": "code",
      "source": [
        "print(z)"
      ],
      "metadata": {
        "colab": {
          "base_uri": "https://localhost:8080/"
        },
        "id": "OtIeZuDjXuSt",
        "outputId": "d65cb701-5533-42fd-daf0-56e9defd8084"
      },
      "execution_count": null,
      "outputs": [
        {
          "output_type": "stream",
          "name": "stdout",
          "text": [
            "16\n"
          ]
        }
      ]
    },
    {
      "cell_type": "markdown",
      "source": [
        "### Multiplicación"
      ],
      "metadata": {
        "id": "YCPEW4-oXyeM"
      }
    },
    {
      "cell_type": "code",
      "source": [
        "a = 58\n",
        "b = 36 "
      ],
      "metadata": {
        "id": "iLDQ5COCX1h-"
      },
      "execution_count": null,
      "outputs": []
    },
    {
      "cell_type": "code",
      "source": [
        "c = a * b"
      ],
      "metadata": {
        "id": "uHHe0HBCX5d9"
      },
      "execution_count": null,
      "outputs": []
    },
    {
      "cell_type": "code",
      "source": [
        "print(c)"
      ],
      "metadata": {
        "colab": {
          "base_uri": "https://localhost:8080/"
        },
        "id": "sceFZZQiX9hU",
        "outputId": "5c4e6647-690d-4162-80ab-f47b7733c9e7"
      },
      "execution_count": null,
      "outputs": [
        {
          "output_type": "stream",
          "name": "stdout",
          "text": [
            "2088\n"
          ]
        }
      ]
    },
    {
      "cell_type": "markdown",
      "source": [
        "### Divi"
      ],
      "metadata": {
        "id": "ilOr6gMUYLit"
      }
    },
    {
      "cell_type": "code",
      "source": [
        "w = 25\n",
        "y = 7"
      ],
      "metadata": {
        "id": "htaFfqN7YNl0"
      },
      "execution_count": null,
      "outputs": []
    },
    {
      "cell_type": "code",
      "source": [
        "h = w / y"
      ],
      "metadata": {
        "id": "Qhl5tzpTYRYk"
      },
      "execution_count": null,
      "outputs": []
    },
    {
      "cell_type": "code",
      "source": [
        "h"
      ],
      "metadata": {
        "colab": {
          "base_uri": "https://localhost:8080/"
        },
        "id": "uaic-mY_YWI1",
        "outputId": "ac49fc50-bd60-4258-b835-b9ad048b5237"
      },
      "execution_count": null,
      "outputs": [
        {
          "output_type": "execute_result",
          "data": {
            "text/plain": [
              "3.5714285714285716"
            ]
          },
          "metadata": {},
          "execution_count": 55
        }
      ]
    },
    {
      "cell_type": "markdown",
      "source": [
        "### Potenciación"
      ],
      "metadata": {
        "id": "wTYImGk7YA-c"
      }
    },
    {
      "cell_type": "code",
      "source": [
        "f = 14 ** 3"
      ],
      "metadata": {
        "id": "MPR0rFBKYEhH"
      },
      "execution_count": null,
      "outputs": []
    },
    {
      "cell_type": "code",
      "source": [
        "f"
      ],
      "metadata": {
        "colab": {
          "base_uri": "https://localhost:8080/"
        },
        "id": "wdBehE0iYI_l",
        "outputId": "72c2ca66-e513-4f08-d0df-6d7cf490f111"
      },
      "execution_count": null,
      "outputs": [
        {
          "output_type": "execute_result",
          "data": {
            "text/plain": [
              "2744"
            ]
          },
          "metadata": {},
          "execution_count": 56
        }
      ]
    },
    {
      "cell_type": "markdown",
      "source": [
        "### Residuo"
      ],
      "metadata": {
        "id": "pqELgxxnYffd"
      }
    },
    {
      "cell_type": "code",
      "source": [
        "r = 25 % 4"
      ],
      "metadata": {
        "id": "E8RNDj-8YhJ1"
      },
      "execution_count": null,
      "outputs": []
    },
    {
      "cell_type": "code",
      "source": [
        "r"
      ],
      "metadata": {
        "colab": {
          "base_uri": "https://localhost:8080/"
        },
        "id": "V0qvjZ-bYqrU",
        "outputId": "538d26d8-66bd-428b-8743-36694930df09"
      },
      "execution_count": null,
      "outputs": [
        {
          "output_type": "execute_result",
          "data": {
            "text/plain": [
              "1"
            ]
          },
          "metadata": {},
          "execution_count": 58
        }
      ]
    },
    {
      "cell_type": "markdown",
      "source": [
        "## Operaciones con variable String"
      ],
      "metadata": {
        "id": "aEI1gVR7ZYzo"
      }
    },
    {
      "cell_type": "code",
      "source": [
        "nombre = 'Edward'\n",
        "apellido = 'Camelo'"
      ],
      "metadata": {
        "id": "oytQD3TqZa2H"
      },
      "execution_count": null,
      "outputs": []
    },
    {
      "cell_type": "code",
      "source": [
        "nombre + ' ' + apellido "
      ],
      "metadata": {
        "colab": {
          "base_uri": "https://localhost:8080/",
          "height": 36
        },
        "id": "nUrS6ZMuZexZ",
        "outputId": "86062626-e97a-4407-f382-140245285dd9"
      },
      "execution_count": null,
      "outputs": [
        {
          "output_type": "execute_result",
          "data": {
            "text/plain": [
              "'Edward Camelo'"
            ],
            "application/vnd.google.colaboratory.intrinsic+json": {
              "type": "string"
            }
          },
          "metadata": {},
          "execution_count": 61
        }
      ]
    },
    {
      "cell_type": "markdown",
      "source": [
        "## Operaciones con variable listas"
      ],
      "metadata": {
        "id": "jVIozEzIZ2Fn"
      }
    },
    {
      "cell_type": "code",
      "source": [
        "a = [1, 2 , 3 , 4 , 5 , 6]"
      ],
      "metadata": {
        "id": "AmMKG4nrZ5CN"
      },
      "execution_count": null,
      "outputs": []
    },
    {
      "cell_type": "markdown",
      "source": [
        "### Agregar elementos a una lista"
      ],
      "metadata": {
        "id": "cRJbNfwzZ_st"
      }
    },
    {
      "cell_type": "code",
      "source": [
        "a.append(7)"
      ],
      "metadata": {
        "id": "YpdnpgJEZ9fl"
      },
      "execution_count": null,
      "outputs": []
    },
    {
      "cell_type": "code",
      "source": [
        "a"
      ],
      "metadata": {
        "colab": {
          "base_uri": "https://localhost:8080/"
        },
        "id": "rlfGL9ITaxLO",
        "outputId": "46da0e06-b51e-4ec5-9108-47bab3d2716f"
      },
      "execution_count": null,
      "outputs": [
        {
          "output_type": "execute_result",
          "data": {
            "text/plain": [
              "[1, 2, 3, 4, 5, 6, 7]"
            ]
          },
          "metadata": {},
          "execution_count": 64
        }
      ]
    },
    {
      "cell_type": "code",
      "source": [
        "a.append(7)"
      ],
      "metadata": {
        "id": "WdlqrWita0q1"
      },
      "execution_count": null,
      "outputs": []
    },
    {
      "cell_type": "code",
      "source": [
        "a"
      ],
      "metadata": {
        "colab": {
          "base_uri": "https://localhost:8080/"
        },
        "id": "rGGlKHAna36t",
        "outputId": "9498e46d-e5e6-420e-d0d5-52c7488697ba"
      },
      "execution_count": null,
      "outputs": [
        {
          "output_type": "execute_result",
          "data": {
            "text/plain": [
              "[1, 2, 3, 4, 5, 6, 7, 7]"
            ]
          },
          "metadata": {},
          "execution_count": 66
        }
      ]
    },
    {
      "cell_type": "code",
      "source": [
        "a.append('hello world')"
      ],
      "metadata": {
        "id": "RUoPNAbRa_LV"
      },
      "execution_count": null,
      "outputs": []
    },
    {
      "cell_type": "code",
      "source": [
        "a"
      ],
      "metadata": {
        "colab": {
          "base_uri": "https://localhost:8080/"
        },
        "id": "pUVZE4QCbCDN",
        "outputId": "57230b82-4e3a-4c87-b191-9eb3ea40f0a1"
      },
      "execution_count": null,
      "outputs": [
        {
          "output_type": "execute_result",
          "data": {
            "text/plain": [
              "[1, 2, 3, 4, 5, 6, 7, 7, 'hello world']"
            ]
          },
          "metadata": {},
          "execution_count": 68
        }
      ]
    },
    {
      "cell_type": "code",
      "source": [
        "b = [10, 12 ,45 , 15]"
      ],
      "metadata": {
        "id": "rtoXi7G5bGSd"
      },
      "execution_count": null,
      "outputs": []
    },
    {
      "cell_type": "markdown",
      "source": [
        "### Agregar a una lista otra lista"
      ],
      "metadata": {
        "id": "GUkQtAh3bqF2"
      }
    },
    {
      "cell_type": "code",
      "source": [
        "a.extend(b)"
      ],
      "metadata": {
        "id": "F4OtTVmwbKAN"
      },
      "execution_count": null,
      "outputs": []
    },
    {
      "cell_type": "code",
      "source": [
        "a"
      ],
      "metadata": {
        "colab": {
          "base_uri": "https://localhost:8080/"
        },
        "id": "_KSAo0UubXTx",
        "outputId": "7ee9da8c-9030-4a34-a183-e7bfd457c012"
      },
      "execution_count": null,
      "outputs": [
        {
          "output_type": "execute_result",
          "data": {
            "text/plain": [
              "[1, 2, 3, 4, 5, 6, 7, 7, 'hello world', 10, 12, 45, 15]"
            ]
          },
          "metadata": {},
          "execution_count": 71
        }
      ]
    },
    {
      "cell_type": "code",
      "source": [
        "c = [25, 26 , 27]"
      ],
      "metadata": {
        "id": "kf58bhpVbdAe"
      },
      "execution_count": null,
      "outputs": []
    },
    {
      "cell_type": "code",
      "source": [
        "a + c"
      ],
      "metadata": {
        "colab": {
          "base_uri": "https://localhost:8080/"
        },
        "id": "EiQ0rIutbf4m",
        "outputId": "6f1d7ad2-b3cb-4af1-f908-6abb14f75ada"
      },
      "execution_count": null,
      "outputs": [
        {
          "output_type": "execute_result",
          "data": {
            "text/plain": [
              "[1, 2, 3, 4, 5, 6, 7, 7, 'hello world', 10, 12, 45, 15, 25, 26, 27]"
            ]
          },
          "metadata": {},
          "execution_count": 73
        }
      ]
    },
    {
      "cell_type": "markdown",
      "source": [
        "### Obtener el indice de un elemento"
      ],
      "metadata": {
        "id": "4zSXPflEbply"
      }
    },
    {
      "cell_type": "code",
      "source": [
        "a"
      ],
      "metadata": {
        "colab": {
          "base_uri": "https://localhost:8080/"
        },
        "id": "LzwGYSaYbpMB",
        "outputId": "3ddbc230-82c8-4a35-aaa7-fe7230ea9c5b"
      },
      "execution_count": null,
      "outputs": [
        {
          "output_type": "execute_result",
          "data": {
            "text/plain": [
              "[1, 2, 3, 4, 5, 6, 7, 7, 'hello world', 10, 12, 45, 15]"
            ]
          },
          "metadata": {},
          "execution_count": 74
        }
      ]
    },
    {
      "cell_type": "code",
      "source": [
        "a.index(10)"
      ],
      "metadata": {
        "colab": {
          "base_uri": "https://localhost:8080/"
        },
        "id": "ff9Fia6GbyDG",
        "outputId": "c2e79bfd-97e8-4329-95c3-ffac273962a5"
      },
      "execution_count": null,
      "outputs": [
        {
          "output_type": "execute_result",
          "data": {
            "text/plain": [
              "9"
            ]
          },
          "metadata": {},
          "execution_count": 75
        }
      ]
    },
    {
      "cell_type": "markdown",
      "source": [
        "### Eliminar elementos de una lista"
      ],
      "metadata": {
        "id": "hFcbGdF3cDRg"
      }
    },
    {
      "cell_type": "code",
      "source": [
        "a"
      ],
      "metadata": {
        "colab": {
          "base_uri": "https://localhost:8080/"
        },
        "id": "Em9MCOF6cAUh",
        "outputId": "7d1fabe0-0909-4b30-9b17-241991964cc5"
      },
      "execution_count": null,
      "outputs": [
        {
          "output_type": "execute_result",
          "data": {
            "text/plain": [
              "[1, 2, 3, 4, 5, 6, 7, 7, 'hello world', 10, 12, 45, 15]"
            ]
          },
          "metadata": {},
          "execution_count": 76
        }
      ]
    },
    {
      "cell_type": "code",
      "source": [
        "a.remove(45)"
      ],
      "metadata": {
        "id": "51JaG_nmcHLm"
      },
      "execution_count": null,
      "outputs": []
    },
    {
      "cell_type": "code",
      "source": [
        "a"
      ],
      "metadata": {
        "colab": {
          "base_uri": "https://localhost:8080/"
        },
        "id": "z09KfYcvcLJu",
        "outputId": "30d61052-2e50-4c8e-e870-350555e94b4d"
      },
      "execution_count": null,
      "outputs": [
        {
          "output_type": "execute_result",
          "data": {
            "text/plain": [
              "[1, 2, 3, 4, 5, 6, 7, 7, 'hello world', 10, 12, 15]"
            ]
          },
          "metadata": {},
          "execution_count": 78
        }
      ]
    },
    {
      "cell_type": "markdown",
      "source": [
        "### Contar elementos repetidos de una lista"
      ],
      "metadata": {
        "id": "CVD3pFANcQw-"
      }
    },
    {
      "cell_type": "code",
      "source": [
        "a"
      ],
      "metadata": {
        "colab": {
          "base_uri": "https://localhost:8080/"
        },
        "id": "6YsNrwTLcTwP",
        "outputId": "88a43835-882f-4983-ca48-1b950ddc7db7"
      },
      "execution_count": null,
      "outputs": [
        {
          "output_type": "execute_result",
          "data": {
            "text/plain": [
              "[1, 2, 3, 4, 5, 6, 7, 7, 'hello world', 10, 12, 15]"
            ]
          },
          "metadata": {},
          "execution_count": 79
        }
      ]
    },
    {
      "cell_type": "code",
      "source": [
        "a.count(7)"
      ],
      "metadata": {
        "colab": {
          "base_uri": "https://localhost:8080/"
        },
        "id": "rMf3bxJccUj1",
        "outputId": "2acbcd15-5bda-43ee-880b-e12d2754cd96"
      },
      "execution_count": null,
      "outputs": [
        {
          "output_type": "execute_result",
          "data": {
            "text/plain": [
              "2"
            ]
          },
          "metadata": {},
          "execution_count": 80
        }
      ]
    },
    {
      "cell_type": "markdown",
      "source": [
        "### Ordenar una lista"
      ],
      "metadata": {
        "id": "UHT4YX7RccKh"
      }
    },
    {
      "cell_type": "code",
      "source": [
        "a.sort()"
      ],
      "metadata": {
        "colab": {
          "base_uri": "https://localhost:8080/",
          "height": 165
        },
        "id": "TvdNyF_xc_BX",
        "outputId": "7138e5d0-b0eb-43bc-e796-80470ecf761a"
      },
      "execution_count": null,
      "outputs": [
        {
          "output_type": "error",
          "ename": "TypeError",
          "evalue": "ignored",
          "traceback": [
            "\u001b[0;31m---------------------------------------------------------------------------\u001b[0m",
            "\u001b[0;31mTypeError\u001b[0m                                 Traceback (most recent call last)",
            "\u001b[0;32m<ipython-input-82-2ed0d7de6146>\u001b[0m in \u001b[0;36m<module>\u001b[0;34m\u001b[0m\n\u001b[0;32m----> 1\u001b[0;31m \u001b[0ma\u001b[0m\u001b[0;34m.\u001b[0m\u001b[0msort\u001b[0m\u001b[0;34m(\u001b[0m\u001b[0;34m)\u001b[0m\u001b[0;34m\u001b[0m\u001b[0;34m\u001b[0m\u001b[0m\n\u001b[0m",
            "\u001b[0;31mTypeError\u001b[0m: '<' not supported between instances of 'str' and 'int'"
          ]
        }
      ]
    },
    {
      "cell_type": "code",
      "source": [
        "a.remove('hello world')"
      ],
      "metadata": {
        "id": "NA4TOPGfce-G"
      },
      "execution_count": null,
      "outputs": []
    },
    {
      "cell_type": "code",
      "source": [
        "a.sort()"
      ],
      "metadata": {
        "id": "GG9220JidFVb"
      },
      "execution_count": null,
      "outputs": []
    },
    {
      "cell_type": "code",
      "source": [
        "a"
      ],
      "metadata": {
        "colab": {
          "base_uri": "https://localhost:8080/"
        },
        "id": "3q34tTmWdGNO",
        "outputId": "1249b53a-1cdf-4caf-9ae4-e86824dababb"
      },
      "execution_count": null,
      "outputs": [
        {
          "output_type": "execute_result",
          "data": {
            "text/plain": [
              "[1, 2, 3, 4, 5, 6, 7, 7, 10, 12, 15]"
            ]
          },
          "metadata": {},
          "execution_count": 85
        }
      ]
    },
    {
      "cell_type": "code",
      "source": [
        "a.sort(reverse=True)"
      ],
      "metadata": {
        "id": "GmZJ1z6edKbw"
      },
      "execution_count": null,
      "outputs": []
    },
    {
      "cell_type": "code",
      "source": [
        "a"
      ],
      "metadata": {
        "colab": {
          "base_uri": "https://localhost:8080/"
        },
        "id": "XYbI1NzXdNxF",
        "outputId": "47af4a74-41b9-4009-c8dc-8762123b1999"
      },
      "execution_count": null,
      "outputs": [
        {
          "output_type": "execute_result",
          "data": {
            "text/plain": [
              "[15, 12, 10, 7, 7, 6, 5, 4, 3, 2, 1]"
            ]
          },
          "metadata": {},
          "execution_count": 87
        }
      ]
    },
    {
      "cell_type": "markdown",
      "source": [
        "# Funciones"
      ],
      "metadata": {
        "id": "jBgVdG04exr0"
      }
    },
    {
      "cell_type": "code",
      "source": [
        "def residuo_entre(a,b):\n",
        "    residuo = a % b\n",
        "    return residuo\n"
      ],
      "metadata": {
        "id": "jUDrtML8ey3H"
      },
      "execution_count": null,
      "outputs": []
    },
    {
      "cell_type": "code",
      "source": [
        "residuo_entre(12,7)"
      ],
      "metadata": {
        "colab": {
          "base_uri": "https://localhost:8080/"
        },
        "id": "Xy4bLkx1fgNv",
        "outputId": "8b4dc832-83a6-4f00-c4f1-b826b9c1a7c9"
      },
      "execution_count": null,
      "outputs": [
        {
          "output_type": "execute_result",
          "data": {
            "text/plain": [
              "5"
            ]
          },
          "metadata": {},
          "execution_count": 92
        }
      ]
    },
    {
      "cell_type": "code",
      "source": [
        "residuo_entre(12,7)"
      ],
      "metadata": {
        "colab": {
          "base_uri": "https://localhost:8080/",
          "height": 252
        },
        "id": "PMUVjQzyfqq-",
        "outputId": "3884bb15-b337-4237-d427-13cfcc86986c"
      },
      "execution_count": null,
      "outputs": [
        {
          "output_type": "error",
          "ename": "TypeError",
          "evalue": "ignored",
          "traceback": [
            "\u001b[0;31m---------------------------------------------------------------------------\u001b[0m",
            "\u001b[0;31mTypeError\u001b[0m                                 Traceback (most recent call last)",
            "\u001b[0;32m<ipython-input-93-7d87f9f67af9>\u001b[0m in \u001b[0;36m<module>\u001b[0;34m\u001b[0m\n\u001b[0;32m----> 1\u001b[0;31m \u001b[0mresiduo_entre\u001b[0m\u001b[0;34m(\u001b[0m\u001b[0;34m'12'\u001b[0m\u001b[0;34m,\u001b[0m\u001b[0;36m7\u001b[0m\u001b[0;34m)\u001b[0m\u001b[0;34m\u001b[0m\u001b[0;34m\u001b[0m\u001b[0m\n\u001b[0m",
            "\u001b[0;32m<ipython-input-90-05217a07c880>\u001b[0m in \u001b[0;36mresiduo_entre\u001b[0;34m(a, b)\u001b[0m\n\u001b[1;32m      1\u001b[0m \u001b[0;32mdef\u001b[0m \u001b[0mresiduo_entre\u001b[0m\u001b[0;34m(\u001b[0m\u001b[0ma\u001b[0m\u001b[0;34m,\u001b[0m\u001b[0mb\u001b[0m\u001b[0;34m)\u001b[0m\u001b[0;34m:\u001b[0m\u001b[0;34m\u001b[0m\u001b[0;34m\u001b[0m\u001b[0m\n\u001b[0;32m----> 2\u001b[0;31m     \u001b[0mresiduo\u001b[0m \u001b[0;34m=\u001b[0m \u001b[0ma\u001b[0m \u001b[0;34m%\u001b[0m \u001b[0mb\u001b[0m\u001b[0;34m\u001b[0m\u001b[0;34m\u001b[0m\u001b[0m\n\u001b[0m\u001b[1;32m      3\u001b[0m     \u001b[0;32mreturn\u001b[0m \u001b[0mresiduo\u001b[0m\u001b[0;34m\u001b[0m\u001b[0;34m\u001b[0m\u001b[0m\n",
            "\u001b[0;31mTypeError\u001b[0m: not all arguments converted during string formatting"
          ]
        }
      ]
    },
    {
      "cell_type": "markdown",
      "source": [
        "# Condicionales y loops basica"
      ],
      "metadata": {
        "id": "posTBomqhAmv"
      }
    },
    {
      "cell_type": "code",
      "source": [
        "x = 5\n",
        "y = 6"
      ],
      "metadata": {
        "id": "-XSTTRVehbq_"
      },
      "execution_count": null,
      "outputs": []
    },
    {
      "cell_type": "code",
      "source": [
        "if x == y:\n",
        "  print(x , ' es igual a ', y)"
      ],
      "metadata": {
        "colab": {
          "base_uri": "https://localhost:8080/"
        },
        "id": "yH5cSqo1hFCX",
        "outputId": "d99e3a12-ecc5-4ec8-e89b-d4bea11544e1"
      },
      "execution_count": null,
      "outputs": [
        {
          "output_type": "stream",
          "name": "stdout",
          "text": [
            "5  es igual a  5\n"
          ]
        }
      ]
    },
    {
      "cell_type": "code",
      "source": [
        "if x > y:\n",
        "  print(x , ' es mayor que ', y)"
      ],
      "metadata": {
        "id": "sQuVoCQnhw1I"
      },
      "execution_count": null,
      "outputs": []
    },
    {
      "cell_type": "code",
      "source": [
        "if x >= y:\n",
        "  print(x , ' es mayor o igual que ', y)"
      ],
      "metadata": {
        "colab": {
          "base_uri": "https://localhost:8080/"
        },
        "id": "3G82XAy8iFno",
        "outputId": "6ff4fdd6-8671-4a8b-e592-a348149138c3"
      },
      "execution_count": null,
      "outputs": [
        {
          "output_type": "stream",
          "name": "stdout",
          "text": [
            "5  es mayor o igual que  5\n"
          ]
        }
      ]
    },
    {
      "cell_type": "code",
      "source": [
        "if x < y:\n",
        "  print(x , ' es menor que ', y)"
      ],
      "metadata": {
        "id": "pbdEhr_iiH_4"
      },
      "execution_count": null,
      "outputs": []
    },
    {
      "cell_type": "code",
      "source": [
        "if x <= y:\n",
        "  print(x , ' es menor o igual que ', y)"
      ],
      "metadata": {
        "colab": {
          "base_uri": "https://localhost:8080/"
        },
        "id": "DsIb2B4fiKyv",
        "outputId": "bba6ff25-c059-4177-ab54-bf48c7f725d3"
      },
      "execution_count": null,
      "outputs": [
        {
          "output_type": "stream",
          "name": "stdout",
          "text": [
            "5  es menor o igual que  5\n"
          ]
        }
      ]
    },
    {
      "cell_type": "code",
      "source": [
        "if x != y:\n",
        "  print(x , ' es diferente que ', y)"
      ],
      "metadata": {
        "colab": {
          "base_uri": "https://localhost:8080/"
        },
        "id": "D760dkCuiPX3",
        "outputId": "1738d8be-9580-4cc2-ee11-40c61e9cf1ee"
      },
      "execution_count": null,
      "outputs": [
        {
          "output_type": "stream",
          "name": "stdout",
          "text": [
            "5  es diferente que  6\n"
          ]
        }
      ]
    },
    {
      "cell_type": "code",
      "source": [
        "a = input('Ingrese el número ')\n",
        "b = input('Ingrese el número ')"
      ],
      "metadata": {
        "colab": {
          "base_uri": "https://localhost:8080/"
        },
        "id": "USa0JK5oispB",
        "outputId": "9d2a5f00-4034-4ef1-c086-374f68fd424a"
      },
      "execution_count": null,
      "outputs": [
        {
          "name": "stdout",
          "output_type": "stream",
          "text": [
            "Ingrese el número25\n",
            "Ingrese el número36\n"
          ]
        }
      ]
    },
    {
      "cell_type": "code",
      "source": [
        "if a == b:\n",
        "  print('Los números son iguales')\n",
        "else:\n",
        "  print('Los números no son iguales')"
      ],
      "metadata": {
        "colab": {
          "base_uri": "https://localhost:8080/"
        },
        "id": "3v9IBX-1i1NL",
        "outputId": "18053378-913d-4ae9-a409-b227ed0c563d"
      },
      "execution_count": null,
      "outputs": [
        {
          "output_type": "stream",
          "name": "stdout",
          "text": [
            "Los números no son iguales\n"
          ]
        }
      ]
    }
  ]
}